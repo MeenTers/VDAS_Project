{
  "nbformat": 4,
  "nbformat_minor": 0,
  "metadata": {
    "colab": {
      "name": "compare_views.ipynb",
      "provenance": [],
      "authorship_tag": "ABX9TyMaVQKy8aIdd0MGNITmcxhv",
      "include_colab_link": true
    },
    "kernelspec": {
      "name": "python3",
      "display_name": "Python 3"
    },
    "language_info": {
      "name": "python"
    },
    "accelerator": "GPU",
    "widgets": {
      "application/vnd.jupyter.widget-state+json": {
        "684907d6f1d448b2a618f6c00a150619": {
          "model_module": "@jupyter-widgets/controls",
          "model_name": "HBoxModel",
          "model_module_version": "1.5.0",
          "state": {
            "_view_name": "HBoxView",
            "_dom_classes": [],
            "_model_name": "HBoxModel",
            "_view_module": "@jupyter-widgets/controls",
            "_model_module_version": "1.5.0",
            "_view_count": null,
            "_view_module_version": "1.5.0",
            "box_style": "",
            "layout": "IPY_MODEL_c9b929876e1743b8bc9d3cfb45bff664",
            "_model_module": "@jupyter-widgets/controls",
            "children": [
              "IPY_MODEL_a04621ee415142f19774bb62ee54e082",
              "IPY_MODEL_66129f5c39a94eeb9bdb91f0c0c99582",
              "IPY_MODEL_998593366805406e9b053a0a7dfddff0"
            ]
          }
        },
        "c9b929876e1743b8bc9d3cfb45bff664": {
          "model_module": "@jupyter-widgets/base",
          "model_name": "LayoutModel",
          "model_module_version": "1.2.0",
          "state": {
            "_view_name": "LayoutView",
            "grid_template_rows": null,
            "right": null,
            "justify_content": null,
            "_view_module": "@jupyter-widgets/base",
            "overflow": null,
            "_model_module_version": "1.2.0",
            "_view_count": null,
            "flex_flow": null,
            "width": null,
            "min_width": null,
            "border": null,
            "align_items": null,
            "bottom": null,
            "_model_module": "@jupyter-widgets/base",
            "top": null,
            "grid_column": null,
            "overflow_y": null,
            "overflow_x": null,
            "grid_auto_flow": null,
            "grid_area": null,
            "grid_template_columns": null,
            "flex": null,
            "_model_name": "LayoutModel",
            "justify_items": null,
            "grid_row": null,
            "max_height": null,
            "align_content": null,
            "visibility": null,
            "align_self": null,
            "height": null,
            "min_height": null,
            "padding": null,
            "grid_auto_rows": null,
            "grid_gap": null,
            "max_width": null,
            "order": null,
            "_view_module_version": "1.2.0",
            "grid_template_areas": null,
            "object_position": null,
            "object_fit": null,
            "grid_auto_columns": null,
            "margin": null,
            "display": null,
            "left": null
          }
        },
        "a04621ee415142f19774bb62ee54e082": {
          "model_module": "@jupyter-widgets/controls",
          "model_name": "HTMLModel",
          "model_module_version": "1.5.0",
          "state": {
            "_view_name": "HTMLView",
            "style": "IPY_MODEL_431af7ebb9cd4860a5a0b1fd5921c525",
            "_dom_classes": [],
            "description": "",
            "_model_name": "HTMLModel",
            "placeholder": "​",
            "_view_module": "@jupyter-widgets/controls",
            "_model_module_version": "1.5.0",
            "value": "100%",
            "_view_count": null,
            "_view_module_version": "1.5.0",
            "description_tooltip": null,
            "_model_module": "@jupyter-widgets/controls",
            "layout": "IPY_MODEL_44e1ea1a99764b24b12380011610a7cd"
          }
        },
        "66129f5c39a94eeb9bdb91f0c0c99582": {
          "model_module": "@jupyter-widgets/controls",
          "model_name": "FloatProgressModel",
          "model_module_version": "1.5.0",
          "state": {
            "_view_name": "ProgressView",
            "style": "IPY_MODEL_c88909bdede444b9a1f47709a3ff7018",
            "_dom_classes": [],
            "description": "",
            "_model_name": "FloatProgressModel",
            "bar_style": "success",
            "max": 574673361,
            "_view_module": "@jupyter-widgets/controls",
            "_model_module_version": "1.5.0",
            "value": 574673361,
            "_view_count": null,
            "_view_module_version": "1.5.0",
            "orientation": "horizontal",
            "min": 0,
            "description_tooltip": null,
            "_model_module": "@jupyter-widgets/controls",
            "layout": "IPY_MODEL_834503d79c714e8eb380f657e2fd7417"
          }
        },
        "998593366805406e9b053a0a7dfddff0": {
          "model_module": "@jupyter-widgets/controls",
          "model_name": "HTMLModel",
          "model_module_version": "1.5.0",
          "state": {
            "_view_name": "HTMLView",
            "style": "IPY_MODEL_293f4b2a246c41ed932f3b4eb8b1258d",
            "_dom_classes": [],
            "description": "",
            "_model_name": "HTMLModel",
            "placeholder": "​",
            "_view_module": "@jupyter-widgets/controls",
            "_model_module_version": "1.5.0",
            "value": " 548M/548M [00:04&lt;00:00, 273MB/s]",
            "_view_count": null,
            "_view_module_version": "1.5.0",
            "description_tooltip": null,
            "_model_module": "@jupyter-widgets/controls",
            "layout": "IPY_MODEL_0bb37be3c7144713968d81dec40db9d5"
          }
        },
        "431af7ebb9cd4860a5a0b1fd5921c525": {
          "model_module": "@jupyter-widgets/controls",
          "model_name": "DescriptionStyleModel",
          "model_module_version": "1.5.0",
          "state": {
            "_view_name": "StyleView",
            "_model_name": "DescriptionStyleModel",
            "description_width": "",
            "_view_module": "@jupyter-widgets/base",
            "_model_module_version": "1.5.0",
            "_view_count": null,
            "_view_module_version": "1.2.0",
            "_model_module": "@jupyter-widgets/controls"
          }
        },
        "44e1ea1a99764b24b12380011610a7cd": {
          "model_module": "@jupyter-widgets/base",
          "model_name": "LayoutModel",
          "model_module_version": "1.2.0",
          "state": {
            "_view_name": "LayoutView",
            "grid_template_rows": null,
            "right": null,
            "justify_content": null,
            "_view_module": "@jupyter-widgets/base",
            "overflow": null,
            "_model_module_version": "1.2.0",
            "_view_count": null,
            "flex_flow": null,
            "width": null,
            "min_width": null,
            "border": null,
            "align_items": null,
            "bottom": null,
            "_model_module": "@jupyter-widgets/base",
            "top": null,
            "grid_column": null,
            "overflow_y": null,
            "overflow_x": null,
            "grid_auto_flow": null,
            "grid_area": null,
            "grid_template_columns": null,
            "flex": null,
            "_model_name": "LayoutModel",
            "justify_items": null,
            "grid_row": null,
            "max_height": null,
            "align_content": null,
            "visibility": null,
            "align_self": null,
            "height": null,
            "min_height": null,
            "padding": null,
            "grid_auto_rows": null,
            "grid_gap": null,
            "max_width": null,
            "order": null,
            "_view_module_version": "1.2.0",
            "grid_template_areas": null,
            "object_position": null,
            "object_fit": null,
            "grid_auto_columns": null,
            "margin": null,
            "display": null,
            "left": null
          }
        },
        "c88909bdede444b9a1f47709a3ff7018": {
          "model_module": "@jupyter-widgets/controls",
          "model_name": "ProgressStyleModel",
          "model_module_version": "1.5.0",
          "state": {
            "_view_name": "StyleView",
            "_model_name": "ProgressStyleModel",
            "description_width": "",
            "_view_module": "@jupyter-widgets/base",
            "_model_module_version": "1.5.0",
            "_view_count": null,
            "_view_module_version": "1.2.0",
            "bar_color": null,
            "_model_module": "@jupyter-widgets/controls"
          }
        },
        "834503d79c714e8eb380f657e2fd7417": {
          "model_module": "@jupyter-widgets/base",
          "model_name": "LayoutModel",
          "model_module_version": "1.2.0",
          "state": {
            "_view_name": "LayoutView",
            "grid_template_rows": null,
            "right": null,
            "justify_content": null,
            "_view_module": "@jupyter-widgets/base",
            "overflow": null,
            "_model_module_version": "1.2.0",
            "_view_count": null,
            "flex_flow": null,
            "width": null,
            "min_width": null,
            "border": null,
            "align_items": null,
            "bottom": null,
            "_model_module": "@jupyter-widgets/base",
            "top": null,
            "grid_column": null,
            "overflow_y": null,
            "overflow_x": null,
            "grid_auto_flow": null,
            "grid_area": null,
            "grid_template_columns": null,
            "flex": null,
            "_model_name": "LayoutModel",
            "justify_items": null,
            "grid_row": null,
            "max_height": null,
            "align_content": null,
            "visibility": null,
            "align_self": null,
            "height": null,
            "min_height": null,
            "padding": null,
            "grid_auto_rows": null,
            "grid_gap": null,
            "max_width": null,
            "order": null,
            "_view_module_version": "1.2.0",
            "grid_template_areas": null,
            "object_position": null,
            "object_fit": null,
            "grid_auto_columns": null,
            "margin": null,
            "display": null,
            "left": null
          }
        },
        "293f4b2a246c41ed932f3b4eb8b1258d": {
          "model_module": "@jupyter-widgets/controls",
          "model_name": "DescriptionStyleModel",
          "model_module_version": "1.5.0",
          "state": {
            "_view_name": "StyleView",
            "_model_name": "DescriptionStyleModel",
            "description_width": "",
            "_view_module": "@jupyter-widgets/base",
            "_model_module_version": "1.5.0",
            "_view_count": null,
            "_view_module_version": "1.2.0",
            "_model_module": "@jupyter-widgets/controls"
          }
        },
        "0bb37be3c7144713968d81dec40db9d5": {
          "model_module": "@jupyter-widgets/base",
          "model_name": "LayoutModel",
          "model_module_version": "1.2.0",
          "state": {
            "_view_name": "LayoutView",
            "grid_template_rows": null,
            "right": null,
            "justify_content": null,
            "_view_module": "@jupyter-widgets/base",
            "overflow": null,
            "_model_module_version": "1.2.0",
            "_view_count": null,
            "flex_flow": null,
            "width": null,
            "min_width": null,
            "border": null,
            "align_items": null,
            "bottom": null,
            "_model_module": "@jupyter-widgets/base",
            "top": null,
            "grid_column": null,
            "overflow_y": null,
            "overflow_x": null,
            "grid_auto_flow": null,
            "grid_area": null,
            "grid_template_columns": null,
            "flex": null,
            "_model_name": "LayoutModel",
            "justify_items": null,
            "grid_row": null,
            "max_height": null,
            "align_content": null,
            "visibility": null,
            "align_self": null,
            "height": null,
            "min_height": null,
            "padding": null,
            "grid_auto_rows": null,
            "grid_gap": null,
            "max_width": null,
            "order": null,
            "_view_module_version": "1.2.0",
            "grid_template_areas": null,
            "object_position": null,
            "object_fit": null,
            "grid_auto_columns": null,
            "margin": null,
            "display": null,
            "left": null
          }
        }
      }
    }
  },
  "cells": [
    {
      "cell_type": "markdown",
      "metadata": {
        "id": "view-in-github",
        "colab_type": "text"
      },
      "source": [
        "<a href=\"https://colab.research.google.com/github/MeenTers/VDAS_Project/blob/main/compare_views.ipynb\" target=\"_parent\"><img src=\"https://colab.research.google.com/assets/colab-badge.svg\" alt=\"Open In Colab\"/></a>"
      ]
    },
    {
      "cell_type": "code",
      "execution_count": 1,
      "metadata": {
        "colab": {
          "base_uri": "https://localhost:8080/"
        },
        "id": "skOTs39vwpeP",
        "outputId": "b3d35eb8-f178-4f0f-93b5-8c63d9e69f61"
      },
      "outputs": [
        {
          "output_type": "stream",
          "name": "stdout",
          "text": [
            "Mounted at /content/drive\n"
          ]
        }
      ],
      "source": [
        "from google.colab import drive\n",
        "drive.mount('/content/drive')"
      ]
    },
    {
      "cell_type": "code",
      "source": [
        "import torch\n",
        "from torch import nn, load, utils\n",
        "from tqdm import tqdm\n",
        "import matplotlib.pyplot as plt\n",
        "import numpy as np\n",
        "from torchvision import datasets, transforms, models\n",
        "from torchvision.models.vgg import model_urls\n",
        "from os import path, listdir\n",
        "model_urls['vgg19'] = model_urls['vgg19'].replace('https://', 'http://')"
      ],
      "metadata": {
        "id": "Tt3RJZiBwvwC"
      },
      "execution_count": 2,
      "outputs": []
    },
    {
      "cell_type": "code",
      "source": [
        "from scipy.spatial import distance_matrix\n",
        "from scipy.spatial import distance\n",
        "import pandas as pd"
      ],
      "metadata": {
        "id": "twTulD0PxPrP"
      },
      "execution_count": 3,
      "outputs": []
    },
    {
      "cell_type": "code",
      "source": [
        "import matplotlib.image as mpimg\n",
        "import matplotlib.pyplot as plt\n",
        "import cv2"
      ],
      "metadata": {
        "id": "z8HjhvwoxRd1"
      },
      "execution_count": 4,
      "outputs": []
    },
    {
      "cell_type": "markdown",
      "source": [
        "# VGG model"
      ],
      "metadata": {
        "id": "VHrB2lB0xS-c"
      }
    },
    {
      "cell_type": "code",
      "source": [
        "class VGG:\n",
        "\tdef __init__(self):\n",
        "\t\tmodel = models.vgg19(pretrained=True, progress=True)\n",
        "\t\tmodel.classifier = nn.Sequential(*list(model.classifier.children())[:3])\n",
        "\t\tself.model = model.cuda().eval()\n",
        "\n",
        "\tdef __call__(self, x):\n",
        "\t\treturn self.model(x)"
      ],
      "metadata": {
        "id": "NqZSl_HlxSoB"
      },
      "execution_count": 5,
      "outputs": []
    },
    {
      "cell_type": "code",
      "source": [
        "vgg = VGG()"
      ],
      "metadata": {
        "colab": {
          "base_uri": "https://localhost:8080/",
          "height": 66,
          "referenced_widgets": [
            "684907d6f1d448b2a618f6c00a150619",
            "c9b929876e1743b8bc9d3cfb45bff664",
            "a04621ee415142f19774bb62ee54e082",
            "66129f5c39a94eeb9bdb91f0c0c99582",
            "998593366805406e9b053a0a7dfddff0",
            "431af7ebb9cd4860a5a0b1fd5921c525",
            "44e1ea1a99764b24b12380011610a7cd",
            "c88909bdede444b9a1f47709a3ff7018",
            "834503d79c714e8eb380f657e2fd7417",
            "293f4b2a246c41ed932f3b4eb8b1258d",
            "0bb37be3c7144713968d81dec40db9d5"
          ]
        },
        "id": "keooR4U-xV9d",
        "outputId": "4c669205-348d-4bcc-9445-cf7697617f76"
      },
      "execution_count": 6,
      "outputs": [
        {
          "output_type": "stream",
          "name": "stderr",
          "text": [
            "Downloading: \"http://download.pytorch.org/models/vgg19-dcbb9e9d.pth\" to /root/.cache/torch/hub/checkpoints/vgg19-dcbb9e9d.pth\n"
          ]
        },
        {
          "output_type": "display_data",
          "data": {
            "application/vnd.jupyter.widget-view+json": {
              "model_id": "684907d6f1d448b2a618f6c00a150619",
              "version_minor": 0,
              "version_major": 2
            },
            "text/plain": [
              "  0%|          | 0.00/548M [00:00<?, ?B/s]"
            ]
          },
          "metadata": {}
        }
      ]
    },
    {
      "cell_type": "markdown",
      "source": [
        "# Create Features Extraction Function"
      ],
      "metadata": {
        "id": "0ectWblExY8q"
      }
    },
    {
      "cell_type": "code",
      "source": [
        "def get_features(model, loader):\n",
        "    features = []\n",
        "    with torch.no_grad():\n",
        "        for batch, _ in tqdm(loader):\n",
        "            if torch.cuda.is_available():\n",
        "                batch = batch.cuda()\n",
        "            b_features = model(batch).detach().cpu().numpy()\n",
        "            for f in b_features:\n",
        "                features.append(f)\n",
        "\n",
        "    return features"
      ],
      "metadata": {
        "id": "3YikmvuLxXaj"
      },
      "execution_count": 7,
      "outputs": []
    },
    {
      "cell_type": "markdown",
      "source": [
        "## Create Loading the data Function"
      ],
      "metadata": {
        "id": "A4hWTmbexbYN"
      }
    },
    {
      "cell_type": "code",
      "source": [
        "def get_dataset(images_path):\n",
        "  transform = transforms.Compose([\n",
        "    transforms.Resize(size=32),\n",
        "    transforms.ToTensor(),\n",
        "    transforms.Normalize((0.4914, 0.4822, 0.4465), (0.2023, 0.1994, 0.2010)),\n",
        "  ])\n",
        "\n",
        "  dataset = datasets.ImageFolder(images_path, transform=transform)\n",
        "  loader = utils.data.DataLoader(dataset, batch_size=100, shuffle=False, num_workers=1, pin_memory=True)\n",
        "  return dataset, loader"
      ],
      "metadata": {
        "id": "kYagKgh8xbDt"
      },
      "execution_count": 8,
      "outputs": []
    },
    {
      "cell_type": "markdown",
      "source": [
        "## Install Font TH-SARABUN"
      ],
      "metadata": {
        "id": "2rNSi49RxfZj"
      }
    },
    {
      "cell_type": "code",
      "source": [
        "!wget -q https://github.com/Phonbopit/sarabun-webfont/raw/master/fonts/thsarabunnew-webfont.ttf"
      ],
      "metadata": {
        "id": "vyFsSu0Hxe3G"
      },
      "execution_count": 9,
      "outputs": []
    },
    {
      "cell_type": "code",
      "source": [
        "# !pip install -U --pre matplotlib  \n",
        "import matplotlib as mpl\n",
        "mpl.font_manager.fontManager.addfont('thsarabunnew-webfont.ttf')\n",
        "mpl.rc('font', family='TH Sarabun New')"
      ],
      "metadata": {
        "id": "-yc1vcpsxiXE"
      },
      "execution_count": 10,
      "outputs": []
    },
    {
      "cell_type": "markdown",
      "source": [
        "## Create Compute Distance Function"
      ],
      "metadata": {
        "id": "zAmDU0mIxlFz"
      }
    },
    {
      "cell_type": "code",
      "source": [
        "def get_euclidean(base_car,diff_view):\n",
        "    A = []\n",
        "    for i in range(len(diff_view)):\n",
        "        x = distance.euclidean(base_car[i],diff_view[i])\n",
        "        A.append(x)\n",
        "    return(A)"
      ],
      "metadata": {
        "id": "qrCg2JP9xjsB"
      },
      "execution_count": 11,
      "outputs": []
    },
    {
      "cell_type": "markdown",
      "source": [
        "# กันชนหน้ารถเสียหายเล็กน้อย"
      ],
      "metadata": {
        "id": "0J3J-lQfxw7E"
      }
    },
    {
      "cell_type": "code",
      "source": [
        "car1_dataset , car1_loader = get_dataset(r'/content/drive/MyDrive/Test Dist/Base/Front')\n",
        "dmg1_dataset , dmg1_loader = get_dataset(r'/content/drive/MyDrive/Test Dist/dmg/front/little dmg1')"
      ],
      "metadata": {
        "id": "U1_l52C6xof0"
      },
      "execution_count": 12,
      "outputs": []
    },
    {
      "cell_type": "code",
      "source": [
        "id1b = get_features(vgg,car1_loader)\n",
        "id1v = get_features(vgg,dmg1_loader)"
      ],
      "metadata": {
        "colab": {
          "base_uri": "https://localhost:8080/"
        },
        "id": "VnUDC0SoyAAy",
        "outputId": "c422260c-5b37-4d7f-dcc2-5f2c983c8c1d"
      },
      "execution_count": 13,
      "outputs": [
        {
          "output_type": "stream",
          "name": "stderr",
          "text": [
            "100%|██████████| 1/1 [00:01<00:00,  1.33s/it]\n",
            "100%|██████████| 1/1 [00:01<00:00,  1.10s/it]\n"
          ]
        }
      ]
    },
    {
      "cell_type": "code",
      "source": [
        "id1 = get_euclidean(id1b,id1v)\n",
        "id1"
      ],
      "metadata": {
        "colab": {
          "base_uri": "https://localhost:8080/"
        },
        "id": "257EmvhtyEX9",
        "outputId": "51b05b0c-ba79-405d-ab57-73edc75f47c5"
      },
      "execution_count": 14,
      "outputs": [
        {
          "output_type": "execute_result",
          "data": {
            "text/plain": [
              "[32.031009674072266, 2.6256866455078125, 10.461527824401855]"
            ]
          },
          "metadata": {},
          "execution_count": 14
        }
      ]
    },
    {
      "cell_type": "code",
      "source": [
        "id1f = cv2.imread('/content/drive/MyDrive/Test Dist/Base/Front/base of front/ID1F.png')\n",
        "id1dmgf = cv2.imread('/content/drive/MyDrive/Test Dist/dmg/front/little dmg1/test1/ID1dmg1.png')\n",
        "id2f = cv2.imread('/content/drive/MyDrive/Test Dist/Base/Front/base of front/ID2F.png')\n",
        "id2dmgf = cv2.imread('/content/drive/MyDrive/Test Dist/dmg/front/little dmg1/test1/ID2dmg1.png')"
      ],
      "metadata": {
        "id": "uUhG-SHvy-Bd"
      },
      "execution_count": 15,
      "outputs": []
    },
    {
      "cell_type": "code",
      "source": [
        "# create figure\n",
        "fig = plt.figure(figsize=(15, 10))\n",
        "  # setting values to rows and column variables\n",
        "rows = 2\n",
        "columns = 2\n",
        "  # Adds a subplot at the 1st position\n",
        "fig.add_subplot(rows, columns, 1)\n",
        "  # showing image\n",
        "plt.imshow(id1f)\n",
        "plt.axis('off')\n",
        "plt.title('ด้านหน้ารถยนต์')\n",
        "\n",
        "# Adds a subplot at the 2nd position\n",
        "fig.add_subplot(rows, columns, 2)  \n",
        "# showing image\n",
        "plt.imshow(id1dmgf)\n",
        "plt.axis('off')\n",
        "plt.title('ด้านหน้ารถยนต์เสียหาย')\n",
        "plt.text(150,450,'Distance = '+str(round(id1[0],3)),fontsize = 15,bbox = dict(facecolor = 'red', alpha = 0.5))\n",
        "        \n",
        "# Adds a subplot at the 3rd position\n",
        "fig.add_subplot(rows, columns, 3)\n",
        "  # showing image\n",
        "plt.imshow(id2f)\n",
        "plt.axis('off')\n",
        "plt.title('ด้านหน้ารถยนต์')\n",
        "\n",
        "  # Adds a subplot at the 4th position\n",
        "fig.add_subplot(rows, columns, 4)\n",
        "  # showing image\n",
        "plt.imshow(id2dmgf)\n",
        "plt.axis('off')\n",
        "plt.title('ด้านหน้ารถยนต์เสียหาย')\n",
        "plt.text(150,450,'Distance = '+str(round(id1[1],3)),fontsize = 15,bbox = dict(facecolor = 'red', alpha = 0.5))"
      ],
      "metadata": {
        "colab": {
          "base_uri": "https://localhost:8080/",
          "height": 609
        },
        "id": "G2mk5EoFyJKe",
        "outputId": "1a2e5d69-1099-44ab-a069-8e7fd2158902"
      },
      "execution_count": 16,
      "outputs": [
        {
          "output_type": "execute_result",
          "data": {
            "text/plain": [
              "Text(150, 450, 'Distance = 2.626')"
            ]
          },
          "metadata": {},
          "execution_count": 16
        },
        {
          "output_type": "display_data",
          "data": {
            "image/png": "[encoded data removed]",
            "text/plain": [
              "<Figure size 1080x720 with 4 Axes>"
            ]
          },
          "metadata": {
            "needs_background": "light"
          }
        }
      ]
    },
    {
      "cell_type": "markdown",
      "source": [
        "# กระจกด้านซ้ายเสียหายเล็กน้อย"
      ],
      "metadata": {
        "id": "yPRN_5AAtylw"
      }
    },
    {
      "cell_type": "code",
      "source": [
        "car2_dataset , car2_loader = get_dataset(r'/content/drive/MyDrive/Test Dist/Base/Front')\n",
        "dmg2_dataset , dmg2_loader = get_dataset(r'/content/drive/MyDrive/Test Dist/dmg/front/little dmg2')"
      ],
      "metadata": {
        "id": "leSwd8GwKY0e"
      },
      "execution_count": 17,
      "outputs": []
    },
    {
      "cell_type": "code",
      "source": [
        "id2b = get_features(vgg,car2_loader)\n",
        "id2v = get_features(vgg,dmg2_loader)"
      ],
      "metadata": {
        "id": "ajRK56uguBs5",
        "outputId": "4db21195-ea32-42bb-c7bc-03c42e59cc70",
        "colab": {
          "base_uri": "https://localhost:8080/"
        }
      },
      "execution_count": 18,
      "outputs": [
        {
          "output_type": "stream",
          "name": "stderr",
          "text": [
            "100%|██████████| 1/1 [00:00<00:00,  7.58it/s]\n",
            "100%|██████████| 1/1 [00:01<00:00,  1.18s/it]\n"
          ]
        }
      ]
    },
    {
      "cell_type": "code",
      "source": [
        "id2 = get_euclidean(id2b,id2v)\n",
        "id2"
      ],
      "metadata": {
        "id": "vjeY-kG1uF2_",
        "outputId": "b98c6068-d2e2-49a4-d63c-1b22d4b25a9f",
        "colab": {
          "base_uri": "https://localhost:8080/"
        }
      },
      "execution_count": 19,
      "outputs": [
        {
          "output_type": "execute_result",
          "data": {
            "text/plain": [
              "[0.2577701210975647, 2.229651689529419, 1.2907428741455078]"
            ]
          },
          "metadata": {},
          "execution_count": 19
        }
      ]
    },
    {
      "cell_type": "code",
      "source": [
        "id1f = cv2.imread('/content/drive/MyDrive/Test Dist/Base/Front/base of front/ID1F.png')\n",
        "id1dmgf = cv2.imread('/content/drive/MyDrive/Test Dist/dmg/front/little dmg2/test1/ID1dmg2.png')\n",
        "id2f = cv2.imread('/content/drive/MyDrive/Test Dist/Base/Front/base of front/ID2F.png')\n",
        "id2dmgf = cv2.imread('/content/drive/MyDrive/Test Dist/dmg/front/little dmg2/test1/ID2dmg2.png')"
      ],
      "metadata": {
        "id": "s5T5VylguJ5N"
      },
      "execution_count": 20,
      "outputs": []
    },
    {
      "cell_type": "code",
      "source": [
        "# create figure\n",
        "fig = plt.figure(figsize=(15, 10))\n",
        "  # setting values to rows and column variables\n",
        "rows = 2\n",
        "columns = 2\n",
        "  # Adds a subplot at the 1st position\n",
        "fig.add_subplot(rows, columns, 1)\n",
        "  # showing image\n",
        "plt.imshow(id1f)\n",
        "plt.axis('off')\n",
        "plt.title('ด้านหน้ารถยนต์')\n",
        "\n",
        "# Adds a subplot at the 2nd position\n",
        "fig.add_subplot(rows, columns, 2)  \n",
        "# showing image\n",
        "plt.imshow(id1dmgf)\n",
        "plt.axis('off')\n",
        "plt.title('ด้านหน้ารถยนต์เสียหาย')\n",
        "plt.text(150,450,'Distance = '+str(round(id2[0],3)),fontsize = 15,bbox = dict(facecolor = 'red', alpha = 0.5))\n",
        "        \n",
        "# Adds a subplot at the 3rd position\n",
        "fig.add_subplot(rows, columns, 3)\n",
        "  # showing image\n",
        "plt.imshow(id2f)\n",
        "plt.axis('off')\n",
        "plt.title('ด้านหน้ารถยนต์')\n",
        "\n",
        "  # Adds a subplot at the 4th position\n",
        "fig.add_subplot(rows, columns, 4)\n",
        "  # showing image\n",
        "plt.imshow(id2dmgf)\n",
        "plt.axis('off')\n",
        "plt.title('ด้านหน้ารถยนต์เสียหาย')\n",
        "plt.text(150,450,'Distance = '+str(round(id2[1],3)),fontsize = 15,bbox = dict(facecolor = 'red', alpha = 0.5))"
      ],
      "metadata": {
        "id": "psluJ3x8uR4P",
        "outputId": "35cb30ef-1635-4682-ca4d-f328565ae990",
        "colab": {
          "base_uri": "https://localhost:8080/",
          "height": 609
        }
      },
      "execution_count": 21,
      "outputs": [
        {
          "output_type": "execute_result",
          "data": {
            "text/plain": [
              "Text(150, 450, 'Distance = 2.23')"
            ]
          },
          "metadata": {},
          "execution_count": 21
        },
        {
          "output_type": "display_data",
          "data": {
            "image/png": "[encoded data removed]",
            "text/plain": [
              "<Figure size 1080x720 with 4 Axes>"
            ]
          },
          "metadata": {
            "needs_background": "light"
          }
        }
      ]
    },
    {
      "cell_type": "markdown",
      "source": [
        "# กันชนด้านหลังเสียหายเล็กน้อย"
      ],
      "metadata": {
        "id": "zyIM6gsJubvT"
      }
    },
    {
      "cell_type": "code",
      "source": [
        "car3_dataset , car3_loader = get_dataset(r'/content/drive/MyDrive/Test Dist/Base/back')\n",
        "dmg3_dataset , dmg3_loader = get_dataset(r'/content/drive/MyDrive/Test Dist/dmg/front/little dmgb1')"
      ],
      "metadata": {
        "id": "wtZT52gAuXmv"
      },
      "execution_count": 22,
      "outputs": []
    },
    {
      "cell_type": "code",
      "source": [
        "id3b = get_features(vgg,car3_loader)\n",
        "id3v = get_features(vgg,dmg3_loader)"
      ],
      "metadata": {
        "id": "g98eG5u9vxxh",
        "outputId": "1ce625e5-1b6c-4e36-da54-5b253614277a",
        "colab": {
          "base_uri": "https://localhost:8080/"
        }
      },
      "execution_count": 23,
      "outputs": [
        {
          "output_type": "stream",
          "name": "stderr",
          "text": [
            "100%|██████████| 1/1 [00:01<00:00,  1.35s/it]\n",
            "100%|██████████| 1/1 [00:01<00:00,  1.19s/it]\n"
          ]
        }
      ]
    },
    {
      "cell_type": "code",
      "source": [
        "id3 = get_euclidean(id3b,id3v)\n",
        "id3"
      ],
      "metadata": {
        "id": "kfYmOhKKvspm",
        "outputId": "00609fd2-6d1a-4ff6-9070-fd29798d3682",
        "colab": {
          "base_uri": "https://localhost:8080/"
        }
      },
      "execution_count": 24,
      "outputs": [
        {
          "output_type": "execute_result",
          "data": {
            "text/plain": [
              "[0.0, 0.0, 0.0]"
            ]
          },
          "metadata": {},
          "execution_count": 24
        }
      ]
    },
    {
      "cell_type": "markdown",
      "source": [
        "# ฝากระโปรงด้านหลังเสียหายเล็กน้อย"
      ],
      "metadata": {
        "id": "g2PUainnweY0"
      }
    },
    {
      "cell_type": "code",
      "source": [
        "car4_dataset , car4_loader = get_dataset(r'/content/drive/MyDrive/Test Dist/Base/back')\n",
        "dmg4_dataset , dmg4_loader = get_dataset(r'/content/drive/MyDrive/Test Dist/dmg/back/little dmgb2')"
      ],
      "metadata": {
        "id": "tZYxM0b6v05x"
      },
      "execution_count": 25,
      "outputs": []
    },
    {
      "cell_type": "code",
      "source": [
        "id4b = get_features(vgg,car4_loader)\n",
        "id4v = get_features(vgg,dmg4_loader)"
      ],
      "metadata": {
        "id": "gXZMLTRtxC57",
        "outputId": "ceb63605-0bd9-4cd9-dd42-aa9f0e1defa9",
        "colab": {
          "base_uri": "https://localhost:8080/"
        }
      },
      "execution_count": 26,
      "outputs": [
        {
          "output_type": "stream",
          "name": "stderr",
          "text": [
            "100%|██████████| 1/1 [00:00<00:00,  4.64it/s]\n",
            "100%|██████████| 1/1 [00:01<00:00,  1.05s/it]\n"
          ]
        }
      ]
    },
    {
      "cell_type": "code",
      "source": [
        "id4 = get_euclidean(id4b,id4v)\n",
        "id4"
      ],
      "metadata": {
        "id": "MrZIP_M1xE7D",
        "outputId": "1fbcad00-9cb6-4d28-bf16-005b91849d89",
        "colab": {
          "base_uri": "https://localhost:8080/"
        }
      },
      "execution_count": 27,
      "outputs": [
        {
          "output_type": "execute_result",
          "data": {
            "text/plain": [
              "[3.368466854095459, 0.0, 0.517829954624176]"
            ]
          },
          "metadata": {},
          "execution_count": 27
        }
      ]
    },
    {
      "cell_type": "markdown",
      "source": [
        "# บังโคลนด้านหน้าฝั่งขวาเสียหายเล็กน้อย"
      ],
      "metadata": {
        "id": "O75oY_csxQs9"
      }
    },
    {
      "cell_type": "code",
      "source": [
        "car5_dataset , car5_loader = get_dataset(r'/content/drive/MyDrive/Test Dist/Base/Right')\n",
        "dmg5_dataset , dmg5_loader = get_dataset(r'/content/drive/MyDrive/Test Dist/dmg/right/little dmgr1')"
      ],
      "metadata": {
        "id": "D3PeKoF9xHrS"
      },
      "execution_count": 28,
      "outputs": []
    },
    {
      "cell_type": "code",
      "source": [
        "id5b = get_features(vgg,car5_loader)\n",
        "id5v = get_features(vgg,dmg5_loader)"
      ],
      "metadata": {
        "id": "sv2AEVnAyhCe",
        "outputId": "3e1455c3-3cb6-449d-c474-ce96c16c3368",
        "colab": {
          "base_uri": "https://localhost:8080/"
        }
      },
      "execution_count": 29,
      "outputs": [
        {
          "output_type": "stream",
          "name": "stderr",
          "text": [
            "100%|██████████| 1/1 [00:01<00:00,  1.19s/it]\n",
            "100%|██████████| 1/1 [00:01<00:00,  1.18s/it]\n"
          ]
        }
      ]
    },
    {
      "cell_type": "code",
      "source": [
        "id5 = get_euclidean(id5b,id5v)\n",
        "id5"
      ],
      "metadata": {
        "id": "MiBkSNUVytxj",
        "outputId": "4845fe31-0b4a-4994-b935-443423a55a1b",
        "colab": {
          "base_uri": "https://localhost:8080/"
        }
      },
      "execution_count": 30,
      "outputs": [
        {
          "output_type": "execute_result",
          "data": {
            "text/plain": [
              "[0.9874580502510071, 1.4035791158676147, 8.292835235595703]"
            ]
          },
          "metadata": {},
          "execution_count": 30
        }
      ]
    },
    {
      "cell_type": "markdown",
      "source": [
        "# บังโคลนด้านหลังฝั่งขวาเสียหายเล็กน้อย"
      ],
      "metadata": {
        "id": "uEPMj9-Sy98z"
      }
    },
    {
      "cell_type": "code",
      "source": [
        "car6_dataset , car6_loader = get_dataset(r'/content/drive/MyDrive/Test Dist/Base/Right')\n",
        "dmg6_dataset , dmg6_loader = get_dataset(r'/content/drive/MyDrive/Test Dist/dmg/right/little dmgr2')"
      ],
      "metadata": {
        "id": "ruAW18c4yv0e"
      },
      "execution_count": 31,
      "outputs": []
    },
    {
      "cell_type": "code",
      "source": [
        "id6b = get_features(vgg,car6_loader)\n",
        "id6v = get_features(vgg,dmg6_loader)"
      ],
      "metadata": {
        "id": "eMYn-C6XzeQw",
        "outputId": "163fcfe4-e076-42c9-cee5-decdc569cf7a",
        "colab": {
          "base_uri": "https://localhost:8080/"
        }
      },
      "execution_count": 32,
      "outputs": [
        {
          "output_type": "stream",
          "name": "stderr",
          "text": [
            "100%|██████████| 1/1 [00:00<00:00,  7.46it/s]\n",
            "100%|██████████| 1/1 [00:01<00:00,  1.26s/it]\n"
          ]
        }
      ]
    },
    {
      "cell_type": "code",
      "source": [
        "id6 = get_euclidean(id6b,id6v)\n",
        "id6"
      ],
      "metadata": {
        "id": "0PpXWoYFzZ9U",
        "outputId": "04afeaa8-c12a-4fdf-85a5-2690cc69d5e1",
        "colab": {
          "base_uri": "https://localhost:8080/"
        }
      },
      "execution_count": 33,
      "outputs": [
        {
          "output_type": "execute_result",
          "data": {
            "text/plain": [
              "[0.816369891166687, 6.181356430053711, 5.075022220611572]"
            ]
          },
          "metadata": {},
          "execution_count": 33
        }
      ]
    },
    {
      "cell_type": "markdown",
      "source": [
        "# บังโคลนด้านหน้าฝั่งซ้ายเสียหายเล็กน้อย"
      ],
      "metadata": {
        "id": "X7wbKYVs1FrU"
      }
    },
    {
      "cell_type": "code",
      "source": [
        "car7_dataset , car7_loader = get_dataset(r'/content/drive/MyDrive/Test Dist/Base/Left')\n",
        "dmg7_dataset , dmg7_loader = get_dataset(r'/content/drive/MyDrive/Test Dist/dmg/left/little dmgl1')"
      ],
      "metadata": {
        "id": "lKqqCol4zcHD"
      },
      "execution_count": 34,
      "outputs": []
    },
    {
      "cell_type": "code",
      "source": [
        "id7b = get_features(vgg,car7_loader)\n",
        "id7v = get_features(vgg,dmg7_loader)"
      ],
      "metadata": {
        "id": "OkDFS5n-1Rxf",
        "outputId": "6122cc04-afee-4b95-e4fb-181839b48396",
        "colab": {
          "base_uri": "https://localhost:8080/"
        }
      },
      "execution_count": 35,
      "outputs": [
        {
          "output_type": "stream",
          "name": "stderr",
          "text": [
            "100%|██████████| 1/1 [00:00<00:00,  1.04it/s]\n",
            "100%|██████████| 1/1 [00:01<00:00,  1.17s/it]\n"
          ]
        }
      ]
    },
    {
      "cell_type": "code",
      "source": [
        "id7 = get_euclidean(id7b,id7v)\n",
        "id7"
      ],
      "metadata": {
        "id": "VxSPx1Vs1VfV",
        "outputId": "654a56d9-48a5-480d-ca50-76d315d6d456",
        "colab": {
          "base_uri": "https://localhost:8080/"
        }
      },
      "execution_count": 36,
      "outputs": [
        {
          "output_type": "execute_result",
          "data": {
            "text/plain": [
              "[1.3238294124603271, 1.678946852684021, 4.118788242340088]"
            ]
          },
          "metadata": {},
          "execution_count": 36
        }
      ]
    },
    {
      "cell_type": "markdown",
      "source": [
        "# บังโคลนด้านหลังฝั่งซ้ายเสียหายเล็กน้อย"
      ],
      "metadata": {
        "id": "bgednkHA1enu"
      }
    },
    {
      "cell_type": "code",
      "source": [
        "car8_dataset , car8_loader = get_dataset(r'/content/drive/MyDrive/Test Dist/Base/Left')\n",
        "dmg8_dataset , dmg8_loader = get_dataset(r'/content/drive/MyDrive/Test Dist/dmg/left/little dmgl2')"
      ],
      "metadata": {
        "id": "32_ARAqo1XwE"
      },
      "execution_count": 37,
      "outputs": []
    },
    {
      "cell_type": "code",
      "source": [
        "id8b = get_features(vgg,car8_loader)\n",
        "id8v = get_features(vgg,dmg8_loader)"
      ],
      "metadata": {
        "id": "fhWtkPtl12fW",
        "outputId": "eddfbdf7-1ea1-4ee3-c98f-d1ffae1fe8fc",
        "colab": {
          "base_uri": "https://localhost:8080/"
        }
      },
      "execution_count": 38,
      "outputs": [
        {
          "output_type": "stream",
          "name": "stderr",
          "text": [
            "100%|██████████| 1/1 [00:00<00:00,  7.81it/s]\n",
            "100%|██████████| 1/1 [00:01<00:00,  1.43s/it]\n"
          ]
        }
      ]
    },
    {
      "cell_type": "code",
      "source": [
        "id8 = get_euclidean(id8b,id8v)\n",
        "id8"
      ],
      "metadata": {
        "id": "QRjSZGb_14u-",
        "outputId": "1317fcc3-1424-4e90-a0a9-bd5bd61f2f39",
        "colab": {
          "base_uri": "https://localhost:8080/"
        }
      },
      "execution_count": 39,
      "outputs": [
        {
          "output_type": "execute_result",
          "data": {
            "text/plain": [
              "[0.9240785837173462, 6.846311569213867, 4.582939147949219]"
            ]
          },
          "metadata": {},
          "execution_count": 39
        }
      ]
    },
    {
      "cell_type": "code",
      "source": [
        ""
      ],
      "metadata": {
        "id": "i-x9e5_716q4"
      },
      "execution_count": 39,
      "outputs": []
    },
    {
      "cell_type": "markdown",
      "source": [
        "# กระจกขวาด้านหน้าเสียหายเล็กน้อย"
      ],
      "metadata": {
        "id": "cvGY7hp2jaM1"
      }
    },
    {
      "cell_type": "code",
      "source": [
        "car9_dataset , car9_loader = get_dataset(r'/content/drive/MyDrive/Test Dist/Base/Front')\n",
        "dmg9_dataset , dmg9_loader = get_dataset(r'/content/drive/MyDrive/Test Dist/dmg/front/little dmg3')"
      ],
      "metadata": {
        "id": "rqT3JJqVjfVf"
      },
      "execution_count": 40,
      "outputs": []
    },
    {
      "cell_type": "code",
      "source": [
        "id9b = get_features(vgg,car9_loader)\n",
        "id9v = get_features(vgg,dmg9_loader)"
      ],
      "metadata": {
        "id": "PiZ-NqEBlmxE",
        "outputId": "b4e0cf88-4f06-46fc-f6d1-352164e9217d",
        "colab": {
          "base_uri": "https://localhost:8080/"
        }
      },
      "execution_count": 41,
      "outputs": [
        {
          "output_type": "stream",
          "name": "stderr",
          "text": [
            "100%|██████████| 1/1 [00:00<00:00,  3.16it/s]\n",
            "100%|██████████| 1/1 [00:01<00:00,  1.44s/it]\n"
          ]
        }
      ]
    },
    {
      "cell_type": "code",
      "source": [
        "id9 = get_euclidean(id9b,id9v)\n",
        "id9"
      ],
      "metadata": {
        "id": "Sy1wTxHRlo-c",
        "outputId": "d897c593-729f-4a1d-b902-bdc628e2eca1",
        "colab": {
          "base_uri": "https://localhost:8080/"
        }
      },
      "execution_count": 42,
      "outputs": [
        {
          "output_type": "execute_result",
          "data": {
            "text/plain": [
              "[21.875459671020508, 31.078048706054688, 28.03401756286621]"
            ]
          },
          "metadata": {},
          "execution_count": 42
        }
      ]
    },
    {
      "cell_type": "markdown",
      "source": [
        "# กันชนด้านหน้าเสียหายปานกลาง"
      ],
      "metadata": {
        "id": "Lqjc1HEArzbR"
      }
    },
    {
      "cell_type": "code",
      "source": [
        "car10_dataset , car10_loader = get_dataset(r'/content/drive/MyDrive/Test Dist/Base/Front')\n",
        "dmg10_dataset , dmg10_loader = get_dataset(r'/content/drive/MyDrive/Test Dist/dmg/front/dmg')"
      ],
      "metadata": {
        "id": "IrOjgO6vltM1"
      },
      "execution_count": 43,
      "outputs": []
    },
    {
      "cell_type": "code",
      "source": [
        "id10b = get_features(vgg,car10_loader)\n",
        "id10v = get_features(vgg,dmg10_loader)"
      ],
      "metadata": {
        "id": "KsVr4UlIr82G",
        "outputId": "a1bad10c-dc15-4215-f831-4bc2d6886058",
        "colab": {
          "base_uri": "https://localhost:8080/"
        }
      },
      "execution_count": 44,
      "outputs": [
        {
          "output_type": "stream",
          "name": "stderr",
          "text": [
            "100%|██████████| 1/1 [00:00<00:00,  2.67it/s]\n",
            "100%|██████████| 1/1 [00:01<00:00,  1.61s/it]\n"
          ]
        }
      ]
    },
    {
      "cell_type": "code",
      "source": [
        "id10 = get_euclidean(id10b,id10v)\n",
        "id10"
      ],
      "metadata": {
        "id": "iK_3ekOUr-_j",
        "outputId": "9062443d-cc4a-4dc9-810e-ee17eddd790f",
        "colab": {
          "base_uri": "https://localhost:8080/"
        }
      },
      "execution_count": 45,
      "outputs": [
        {
          "output_type": "execute_result",
          "data": {
            "text/plain": [
              "[14.140507698059082, 31.835617065429688, 30.751710891723633]"
            ]
          },
          "metadata": {},
          "execution_count": 45
        }
      ]
    },
    {
      "cell_type": "markdown",
      "source": [
        "# กันชนด้านหลังเสียหายปานกลาง"
      ],
      "metadata": {
        "id": "Hf8GMXfksFEo"
      }
    },
    {
      "cell_type": "code",
      "source": [
        "car11_dataset , car11_loader = get_dataset(r'/content/drive/MyDrive/Test Dist/Base/back')\n",
        "dmg11_dataset , dmg11_loader = get_dataset(r'/content/drive/MyDrive/Test Dist/dmg/back/dmg1')"
      ],
      "metadata": {
        "id": "VsZBY2d4sA0l"
      },
      "execution_count": 47,
      "outputs": []
    },
    {
      "cell_type": "code",
      "source": [
        "id11b = get_features(vgg,car11_loader)\n",
        "id11v = get_features(vgg,dmg11_loader)"
      ],
      "metadata": {
        "id": "xFb1P4ZksZ0o",
        "outputId": "0d5a8f4c-605f-42a6-8366-5ecd2b8c2b6a",
        "colab": {
          "base_uri": "https://localhost:8080/"
        }
      },
      "execution_count": 48,
      "outputs": [
        {
          "output_type": "stream",
          "name": "stderr",
          "text": [
            "100%|██████████| 1/1 [00:00<00:00,  6.73it/s]\n",
            "100%|██████████| 1/1 [00:01<00:00,  1.31s/it]\n"
          ]
        }
      ]
    },
    {
      "cell_type": "code",
      "source": [
        "id11 = get_euclidean(id11b,id11v)\n",
        "id11"
      ],
      "metadata": {
        "id": "A82k9KkusdZm",
        "outputId": "bbe30679-bf0d-49d6-f695-fb39e418d50a",
        "colab": {
          "base_uri": "https://localhost:8080/"
        }
      },
      "execution_count": 49,
      "outputs": [
        {
          "output_type": "execute_result",
          "data": {
            "text/plain": [
              "[17.89242935180664, 31.053165435791016, 33.7948112487793]"
            ]
          },
          "metadata": {},
          "execution_count": 49
        }
      ]
    },
    {
      "cell_type": "markdown",
      "source": [
        "# บังโคลนด้านหน้าฝั่งขวาเสียหายปานกลาง"
      ],
      "metadata": {
        "id": "zqWZtOmZslee"
      }
    },
    {
      "cell_type": "code",
      "source": [
        "car12_dataset , car12_loader = get_dataset(r'/content/drive/MyDrive/Test Dist/Base/Right')\n",
        "dmg12_dataset , dmg12_loader = get_dataset(r'/content/drive/MyDrive/Test Dist/dmg/right/dmg1')"
      ],
      "metadata": {
        "id": "FF70HnW3sfHy"
      },
      "execution_count": 50,
      "outputs": []
    },
    {
      "cell_type": "code",
      "source": [
        "id12b = get_features(vgg,car12_loader)\n",
        "id12v = get_features(vgg,dmg12_loader)"
      ],
      "metadata": {
        "id": "3toA42CVs4Wc",
        "outputId": "40727ec4-8e70-4ef2-fef3-bebde01ea2c8",
        "colab": {
          "base_uri": "https://localhost:8080/"
        }
      },
      "execution_count": 51,
      "outputs": [
        {
          "output_type": "stream",
          "name": "stderr",
          "text": [
            "100%|██████████| 1/1 [00:00<00:00,  6.97it/s]\n",
            "100%|██████████| 1/1 [00:01<00:00,  1.36s/it]\n"
          ]
        }
      ]
    },
    {
      "cell_type": "code",
      "source": [
        "id12 = get_euclidean(id12b,id12v)\n",
        "id12"
      ],
      "metadata": {
        "id": "tJ6Rq4hvs6X5",
        "outputId": "4d800429-f211-46c2-ac3e-78e9de070c21",
        "colab": {
          "base_uri": "https://localhost:8080/"
        }
      },
      "execution_count": 52,
      "outputs": [
        {
          "output_type": "execute_result",
          "data": {
            "text/plain": [
              "[7.397725582122803, 29.392316818237305, 27.44955825805664]"
            ]
          },
          "metadata": {},
          "execution_count": 52
        }
      ]
    },
    {
      "cell_type": "markdown",
      "source": [
        "# บังโคลนด้านหน้าฝั่งซ้ายเสียหายปานกลาง"
      ],
      "metadata": {
        "id": "MM3miaI_tAfQ"
      }
    },
    {
      "cell_type": "code",
      "source": [
        "car13_dataset , car13_loader = get_dataset(r'/content/drive/MyDrive/Test Dist/Base/Left')\n",
        "dmg13_dataset , dmg13_loader = get_dataset(r'/content/drive/MyDrive/Test Dist/dmg/left/dmg1')"
      ],
      "metadata": {
        "id": "Vtt5JRrks8Od"
      },
      "execution_count": 60,
      "outputs": []
    },
    {
      "cell_type": "code",
      "source": [
        "id13b = get_features(vgg,car13_loader)\n",
        "id13v = get_features(vgg,dmg13_loader)"
      ],
      "metadata": {
        "id": "3cBOl5rGtNrg",
        "outputId": "c9253bbe-a229-4e2b-9412-a30de3f23d78",
        "colab": {
          "base_uri": "https://localhost:8080/"
        }
      },
      "execution_count": 61,
      "outputs": [
        {
          "output_type": "stream",
          "name": "stderr",
          "text": [
            "100%|██████████| 1/1 [00:00<00:00,  2.62it/s]\n",
            "100%|██████████| 1/1 [00:01<00:00,  1.47s/it]\n"
          ]
        }
      ]
    },
    {
      "cell_type": "code",
      "source": [
        "id13 = get_euclidean(id13b,id13v)\n",
        "id13"
      ],
      "metadata": {
        "id": "3jwYp-ePtgNA",
        "outputId": "f763e427-c476-40f6-aab2-9651cb2010ec",
        "colab": {
          "base_uri": "https://localhost:8080/"
        }
      },
      "execution_count": 62,
      "outputs": [
        {
          "output_type": "execute_result",
          "data": {
            "text/plain": [
              "[7.317038059234619, 28.916051864624023, 36.86963653564453]"
            ]
          },
          "metadata": {},
          "execution_count": 62
        }
      ]
    },
    {
      "cell_type": "markdown",
      "source": [
        "# กระจกด้านซ้ายเสียหายปานกลาง"
      ],
      "metadata": {
        "id": "_84lmzg6tlpf"
      }
    },
    {
      "cell_type": "code",
      "source": [
        "car14_dataset , car14_loader = get_dataset(r'/content/drive/MyDrive/Test Dist/Base/Front')\n",
        "dmg14_dataset , dmg14_loader = get_dataset(r'/content/drive/MyDrive/Test Dist/dmg/front/dmg2')"
      ],
      "metadata": {
        "id": "0H7GaV8DtiE3"
      },
      "execution_count": 64,
      "outputs": []
    },
    {
      "cell_type": "code",
      "source": [
        "id14b = get_features(vgg,car14_loader)\n",
        "id14v = get_features(vgg,dmg14_loader)"
      ],
      "metadata": {
        "id": "LZjnhk4JvghS",
        "outputId": "8a674150-d788-4798-cf07-7a6a841dfd40",
        "colab": {
          "base_uri": "https://localhost:8080/"
        }
      },
      "execution_count": 65,
      "outputs": [
        {
          "output_type": "stream",
          "name": "stderr",
          "text": [
            "100%|██████████| 1/1 [00:00<00:00,  7.76it/s]\n",
            "100%|██████████| 1/1 [00:01<00:00,  1.38s/it]\n"
          ]
        }
      ]
    },
    {
      "cell_type": "code",
      "source": [
        "id14 = get_euclidean(id14b,id14v)\n",
        "id14"
      ],
      "metadata": {
        "id": "fsgG0_31vk7L",
        "outputId": "a52b989e-dd98-49ad-98f2-6ff035ce4416",
        "colab": {
          "base_uri": "https://localhost:8080/"
        }
      },
      "execution_count": 66,
      "outputs": [
        {
          "output_type": "execute_result",
          "data": {
            "text/plain": [
              "[23.089521408081055, 30.734933853149414, 27.86607551574707]"
            ]
          },
          "metadata": {},
          "execution_count": 66
        }
      ]
    },
    {
      "cell_type": "markdown",
      "source": [
        "# บังโคลนด้านหลังฝั่งขวาเสียหายปานกลาง"
      ],
      "metadata": {
        "id": "r0L1vyGrvtWJ"
      }
    },
    {
      "cell_type": "code",
      "source": [
        "car15_dataset , car15_loader = get_dataset(r'/content/drive/MyDrive/Test Dist/Base/Right')\n",
        "dmg15_dataset , dmg15_loader = get_dataset(r'/content/drive/MyDrive/Test Dist/dmg/right/dmg2')"
      ],
      "metadata": {
        "id": "QFGVrojzvme9"
      },
      "execution_count": 68,
      "outputs": []
    },
    {
      "cell_type": "code",
      "source": [
        "id15b = get_features(vgg,car15_loader)\n",
        "id15v = get_features(vgg,dmg15_loader)"
      ],
      "metadata": {
        "id": "uKNrACmLv6rL",
        "outputId": "844d0c27-d5f2-4d57-9607-b70d9fd3d989",
        "colab": {
          "base_uri": "https://localhost:8080/"
        }
      },
      "execution_count": 69,
      "outputs": [
        {
          "output_type": "stream",
          "name": "stderr",
          "text": [
            "100%|██████████| 1/1 [00:00<00:00,  3.68it/s]\n",
            "100%|██████████| 1/1 [00:01<00:00,  1.39s/it]\n"
          ]
        }
      ]
    },
    {
      "cell_type": "code",
      "source": [
        "id15 = get_euclidean(id15b,id15v)\n",
        "id15"
      ],
      "metadata": {
        "id": "uLUWIJM5v-QE",
        "outputId": "7b46cabf-5e74-4c8a-91fe-6649786ef22b",
        "colab": {
          "base_uri": "https://localhost:8080/"
        }
      },
      "execution_count": 70,
      "outputs": [
        {
          "output_type": "execute_result",
          "data": {
            "text/plain": [
              "[24.002201080322266, 28.224130630493164, 28.804582595825195]"
            ]
          },
          "metadata": {},
          "execution_count": 70
        }
      ]
    },
    {
      "cell_type": "markdown",
      "source": [
        "# บังโคลนด้านหลังฝั่งซ้ายเสียหายปานกลาง"
      ],
      "metadata": {
        "id": "STJvef1GwKmq"
      }
    },
    {
      "cell_type": "code",
      "source": [
        "car16_dataset , car16_loader = get_dataset(r'/content/drive/MyDrive/Test Dist/Base/Left')\n",
        "dmg16_dataset , dmg16_loader = get_dataset(r'/content/drive/MyDrive/Test Dist/dmg/left/dmg2')"
      ],
      "metadata": {
        "id": "mvyyLBDbwAFJ"
      },
      "execution_count": 75,
      "outputs": []
    },
    {
      "cell_type": "code",
      "source": [
        "id16b = get_features(vgg,car16_loader)\n",
        "id16v = get_features(vgg,dmg16_loader)"
      ],
      "metadata": {
        "id": "3w89RbxpwQeW",
        "outputId": "3416b151-0099-41e2-bc0a-310e777eeea5",
        "colab": {
          "base_uri": "https://localhost:8080/"
        }
      },
      "execution_count": 76,
      "outputs": [
        {
          "output_type": "stream",
          "name": "stderr",
          "text": [
            "100%|██████████| 1/1 [00:00<00:00,  3.13it/s]\n",
            "100%|██████████| 1/1 [00:01<00:00,  1.42s/it]\n"
          ]
        }
      ]
    },
    {
      "cell_type": "code",
      "source": [
        "id16 = get_euclidean(id16b,id16v)\n",
        "id16"
      ],
      "metadata": {
        "id": "QnqexeePwdG5",
        "outputId": "7c23d092-d98a-413e-e71a-f96235cd5c16",
        "colab": {
          "base_uri": "https://localhost:8080/"
        }
      },
      "execution_count": 77,
      "outputs": [
        {
          "output_type": "execute_result",
          "data": {
            "text/plain": [
              "[27.082801818847656, 33.3853759765625, 30.23700714111328]"
            ]
          },
          "metadata": {},
          "execution_count": 77
        }
      ]
    },
    {
      "cell_type": "markdown",
      "source": [
        "# ฝากระโปรงด้านหลังเสียหายปานกลาง"
      ],
      "metadata": {
        "id": "EnJpmiFUxPhL"
      }
    },
    {
      "cell_type": "code",
      "source": [
        "car17_dataset , car17_loader = get_dataset(r'/content/drive/MyDrive/Test Dist/Base/back')\n",
        "dmg17_dataset , dmg17_loader = get_dataset(r'/content/drive/MyDrive/Test Dist/dmg/back/dmg2')"
      ],
      "metadata": {
        "id": "3UvdN8M7we1t"
      },
      "execution_count": 79,
      "outputs": []
    },
    {
      "cell_type": "code",
      "source": [
        "id17b = get_features(vgg,car17_loader)\n",
        "id17v = get_features(vgg,dmg17_loader)"
      ],
      "metadata": {
        "id": "jO-nQSWNxaQO",
        "outputId": "0505c292-85f4-4ecc-e86c-13fdac7563a9",
        "colab": {
          "base_uri": "https://localhost:8080/"
        }
      },
      "execution_count": 80,
      "outputs": [
        {
          "output_type": "stream",
          "name": "stderr",
          "text": [
            "100%|██████████| 1/1 [00:00<00:00,  7.62it/s]\n",
            "100%|██████████| 1/1 [00:01<00:00,  1.62s/it]\n"
          ]
        }
      ]
    },
    {
      "cell_type": "code",
      "source": [
        "id17 = get_euclidean(id17b,id17v)\n",
        "id17"
      ],
      "metadata": {
        "id": "HIaeIS90xfQp",
        "outputId": "fa95517e-0cda-480b-ab13-9385b244aab6",
        "colab": {
          "base_uri": "https://localhost:8080/"
        }
      },
      "execution_count": 81,
      "outputs": [
        {
          "output_type": "execute_result",
          "data": {
            "text/plain": [
              "[25.999164581298828, 31.480886459350586, 34.862735748291016]"
            ]
          },
          "metadata": {},
          "execution_count": 81
        }
      ]
    },
    {
      "cell_type": "markdown",
      "source": [
        "# กระจกด้านขวาเสียหายปานกลาง"
      ],
      "metadata": {
        "id": "4WWIVNbHxqVs"
      }
    },
    {
      "cell_type": "code",
      "source": [
        "car18_dataset , car18_loader = get_dataset(r'/content/drive/MyDrive/Test Dist/Base/Front')\n",
        "dmg18_dataset , dmg18_loader = get_dataset(r'/content/drive/MyDrive/Test Dist/dmg/front/dmg3')"
      ],
      "metadata": {
        "id": "eWw3k7bFxg0z"
      },
      "execution_count": 82,
      "outputs": []
    },
    {
      "cell_type": "code",
      "source": [
        "id18b = get_features(vgg,car18_loader)\n",
        "id18v = get_features(vgg,dmg18_loader)"
      ],
      "metadata": {
        "id": "eBSucCoix0LZ",
        "outputId": "04cd572f-013a-426d-dc81-245752eb7091",
        "colab": {
          "base_uri": "https://localhost:8080/"
        }
      },
      "execution_count": 83,
      "outputs": [
        {
          "output_type": "stream",
          "name": "stderr",
          "text": [
            "100%|██████████| 1/1 [00:00<00:00,  7.99it/s]\n",
            "100%|██████████| 1/1 [00:01<00:00,  1.36s/it]\n"
          ]
        }
      ]
    },
    {
      "cell_type": "code",
      "source": [
        "id18 = get_euclidean(id18b,id18v)\n",
        "id18"
      ],
      "metadata": {
        "id": "oOLAFKD4x1w-",
        "outputId": "91c7c987-0c4f-4a9f-bb2e-c3f019a819d9",
        "colab": {
          "base_uri": "https://localhost:8080/"
        }
      },
      "execution_count": 84,
      "outputs": [
        {
          "output_type": "execute_result",
          "data": {
            "text/plain": [
              "[21.84117317199707, 30.76630210876465, 28.172163009643555]"
            ]
          },
          "metadata": {},
          "execution_count": 84
        }
      ]
    },
    {
      "cell_type": "markdown",
      "source": [
        "# กันชนด้านหน้าเสียหายหนัก"
      ],
      "metadata": {
        "id": "jfG6NNnezAfH"
      }
    },
    {
      "cell_type": "code",
      "source": [
        "car19_dataset , car19_loader = get_dataset(r'/content/drive/MyDrive/Test Dist/Base/Front')\n",
        "dmg19_dataset , dmg19_loader = get_dataset(r'/content/drive/MyDrive/Test Dist/dmg/front/more dmg')"
      ],
      "metadata": {
        "id": "CAn-gLEcx3py"
      },
      "execution_count": 86,
      "outputs": []
    },
    {
      "cell_type": "code",
      "source": [
        "id19b = get_features(vgg,car19_loader)\n",
        "id19v = get_features(vgg,dmg19_loader)"
      ],
      "metadata": {
        "id": "vXRuPCQKzFi9",
        "outputId": "4066589d-b7f8-4c4f-b20f-4b9dfa2f2792",
        "colab": {
          "base_uri": "https://localhost:8080/"
        }
      },
      "execution_count": 87,
      "outputs": [
        {
          "output_type": "stream",
          "name": "stderr",
          "text": [
            "100%|██████████| 1/1 [00:00<00:00,  3.83it/s]\n",
            "100%|██████████| 1/1 [00:01<00:00,  1.34s/it]\n"
          ]
        }
      ]
    },
    {
      "cell_type": "code",
      "source": [
        "id19 = get_euclidean(id19b,id19v)\n",
        "id19"
      ],
      "metadata": {
        "id": "Cqvd3YJQzNLg",
        "outputId": "b0d97707-5f39-4c06-d799-e1bcc4893d83",
        "colab": {
          "base_uri": "https://localhost:8080/"
        }
      },
      "execution_count": 88,
      "outputs": [
        {
          "output_type": "execute_result",
          "data": {
            "text/plain": [
              "[23.817974090576172, 42.24349594116211, 46.33266830444336]"
            ]
          },
          "metadata": {},
          "execution_count": 88
        }
      ]
    },
    {
      "cell_type": "markdown",
      "source": [
        "# กันชนด้านหลังเสียหายหนัก"
      ],
      "metadata": {
        "id": "xAZvrfGDzUVK"
      }
    },
    {
      "cell_type": "code",
      "source": [
        "car20_dataset , car20_loader = get_dataset(r'/content/drive/MyDrive/Test Dist/Base/back')\n",
        "dmg20_dataset , dmg20_loader = get_dataset(r'/content/drive/MyDrive/Test Dist/dmg/back/most dmg1')"
      ],
      "metadata": {
        "id": "_d3Bd-5bzOxB"
      },
      "execution_count": 90,
      "outputs": []
    },
    {
      "cell_type": "code",
      "source": [
        "id20b = get_features(vgg,car20_loader)\n",
        "id20v = get_features(vgg,dmg20_loader)"
      ],
      "metadata": {
        "id": "Lx83kpfvzccm",
        "outputId": "e0d11d4f-d9df-4636-de18-87b2331d481f",
        "colab": {
          "base_uri": "https://localhost:8080/"
        }
      },
      "execution_count": 91,
      "outputs": [
        {
          "output_type": "stream",
          "name": "stderr",
          "text": [
            "100%|██████████| 1/1 [00:00<00:00,  7.52it/s]\n",
            "100%|██████████| 1/1 [00:01<00:00,  1.20s/it]\n"
          ]
        }
      ]
    },
    {
      "cell_type": "code",
      "source": [
        "id20 = get_euclidean(id20b,id20v)\n",
        "id20"
      ],
      "metadata": {
        "id": "HKvhYf6SzgWn",
        "outputId": "2dbc25fa-fdc0-45fb-db03-7f5ca8d5a465",
        "colab": {
          "base_uri": "https://localhost:8080/"
        }
      },
      "execution_count": 92,
      "outputs": [
        {
          "output_type": "execute_result",
          "data": {
            "text/plain": [
              "[32.73076629638672, 32.977752685546875, 34.02585220336914]"
            ]
          },
          "metadata": {},
          "execution_count": 92
        }
      ]
    },
    {
      "cell_type": "markdown",
      "source": [
        "# บังโคลนด้านหน้าฝั่งขวาเสียหายหนัก"
      ],
      "metadata": {
        "id": "kw2KLNB4zquE"
      }
    },
    {
      "cell_type": "code",
      "source": [
        "car21_dataset , car21_loader = get_dataset(r'/content/drive/MyDrive/Test Dist/Base/Right')\n",
        "dmg21_dataset , dmg21_loader = get_dataset(r'/content/drive/MyDrive/Test Dist/dmg/right/most dmg1')"
      ],
      "metadata": {
        "id": "PRrz3IghziO3"
      },
      "execution_count": 93,
      "outputs": []
    },
    {
      "cell_type": "code",
      "source": [
        "id21b = get_features(vgg,car21_loader)\n",
        "id21v = get_features(vgg,dmg21_loader)"
      ],
      "metadata": {
        "id": "jjj1rm1Pzwhk",
        "outputId": "10bb34eb-7d65-4da1-fd2c-0b69038b29ad",
        "colab": {
          "base_uri": "https://localhost:8080/"
        }
      },
      "execution_count": 94,
      "outputs": [
        {
          "output_type": "stream",
          "name": "stderr",
          "text": [
            "100%|██████████| 1/1 [00:00<00:00,  3.24it/s]\n",
            "100%|██████████| 1/1 [00:01<00:00,  1.29s/it]\n"
          ]
        }
      ]
    },
    {
      "cell_type": "code",
      "source": [
        "id21 = get_euclidean(id21b,id21v)\n",
        "id21"
      ],
      "metadata": {
        "id": "YI61zYhrzyw-",
        "outputId": "46d3b0d8-9b92-43d3-c28f-32fe83bb8015",
        "colab": {
          "base_uri": "https://localhost:8080/"
        }
      },
      "execution_count": 95,
      "outputs": [
        {
          "output_type": "execute_result",
          "data": {
            "text/plain": [
              "[35.84652328491211, 31.54802894592285, 29.520524978637695]"
            ]
          },
          "metadata": {},
          "execution_count": 95
        }
      ]
    },
    {
      "cell_type": "markdown",
      "source": [
        "# บังโคลนด้านหน้าฝั่งซ้ายเสียหายหนัก"
      ],
      "metadata": {
        "id": "qCpg-CnCz9Lq"
      }
    },
    {
      "cell_type": "code",
      "source": [
        "car22_dataset , car22_loader = get_dataset(r'/content/drive/MyDrive/Test Dist/Base/Left')\n",
        "dmg22_dataset , dmg22_loader = get_dataset(r'/content/drive/MyDrive/Test Dist/dmg/left/most dmg1')"
      ],
      "metadata": {
        "id": "OsSX3rEiz1Rg"
      },
      "execution_count": 96,
      "outputs": []
    },
    {
      "cell_type": "code",
      "source": [
        "id22b = get_features(vgg,car22_loader)\n",
        "id22v = get_features(vgg,dmg22_loader)"
      ],
      "metadata": {
        "id": "-VLU1QEA0Cg1",
        "outputId": "eaf600ee-814c-4b0f-a27e-21c4573b8c81",
        "colab": {
          "base_uri": "https://localhost:8080/"
        }
      },
      "execution_count": 97,
      "outputs": [
        {
          "output_type": "stream",
          "name": "stderr",
          "text": [
            "100%|██████████| 1/1 [00:00<00:00,  5.72it/s]\n",
            "100%|██████████| 1/1 [00:01<00:00,  1.36s/it]\n"
          ]
        }
      ]
    },
    {
      "cell_type": "code",
      "source": [
        "id22 = get_euclidean(id22b,id22v)\n",
        "id22"
      ],
      "metadata": {
        "id": "9GAmpKpN0ELS",
        "outputId": "28885c42-5a4c-4b9a-bc41-2e5c25193aea",
        "colab": {
          "base_uri": "https://localhost:8080/"
        }
      },
      "execution_count": 98,
      "outputs": [
        {
          "output_type": "execute_result",
          "data": {
            "text/plain": [
              "[50.92572784423828, 28.41098403930664, 34.527320861816406]"
            ]
          },
          "metadata": {},
          "execution_count": 98
        }
      ]
    },
    {
      "cell_type": "markdown",
      "source": [
        "# กระจกด้านซ้ายเสียหายหนัก"
      ],
      "metadata": {
        "id": "jeoQ9HjX1D0g"
      }
    },
    {
      "cell_type": "code",
      "source": [
        "car23_dataset , car23_loader = get_dataset(r'/content/drive/MyDrive/Test Dist/Base/Front')\n",
        "dmg23_dataset , dmg23_loader = get_dataset(r'/content/drive/MyDrive/Test Dist/dmg/front/most dmg2')"
      ],
      "metadata": {
        "id": "StY3_BL_0F7F"
      },
      "execution_count": 99,
      "outputs": []
    },
    {
      "cell_type": "code",
      "source": [
        "id23b = get_features(vgg,car23_loader)\n",
        "id23v = get_features(vgg,dmg23_loader)"
      ],
      "metadata": {
        "id": "HlUj7WTe1P1f",
        "outputId": "693b0e3b-af3b-4349-f682-313d8ab49191",
        "colab": {
          "base_uri": "https://localhost:8080/"
        }
      },
      "execution_count": 100,
      "outputs": [
        {
          "output_type": "stream",
          "name": "stderr",
          "text": [
            "100%|██████████| 1/1 [00:00<00:00,  7.56it/s]\n",
            "100%|██████████| 1/1 [00:01<00:00,  1.32s/it]\n"
          ]
        }
      ]
    },
    {
      "cell_type": "code",
      "source": [
        "id23 = get_euclidean(id23b,id23v)\n",
        "id23"
      ],
      "metadata": {
        "id": "AouOxeju1Rc_",
        "outputId": "eac6ad79-bd5e-45e0-efe7-9617d92d1ba0",
        "colab": {
          "base_uri": "https://localhost:8080/"
        }
      },
      "execution_count": 101,
      "outputs": [
        {
          "output_type": "execute_result",
          "data": {
            "text/plain": [
              "[24.47780418395996, 26.059368133544922, 29.807069778442383]"
            ]
          },
          "metadata": {},
          "execution_count": 101
        }
      ]
    },
    {
      "cell_type": "markdown",
      "source": [
        "# บังโคลนด้านหลังฝั่งขวาเสียหายหนัก"
      ],
      "metadata": {
        "id": "4PmY1Ih21Y6O"
      }
    },
    {
      "cell_type": "code",
      "source": [
        "car24_dataset , car24_loader = get_dataset(r'/content/drive/MyDrive/Test Dist/Base/Right')\n",
        "dmg24_dataset , dmg24_loader = get_dataset(r'/content/drive/MyDrive/Test Dist/dmg/right/most dmg2')"
      ],
      "metadata": {
        "id": "s77u4M6N1S8J"
      },
      "execution_count": 102,
      "outputs": []
    },
    {
      "cell_type": "code",
      "source": [
        "id24b = get_features(vgg,car24_loader)\n",
        "id24v = get_features(vgg,dmg24_loader)"
      ],
      "metadata": {
        "id": "ojnrkXI21hEr",
        "outputId": "9cd6f273-c875-4936-fd03-3a090329331d",
        "colab": {
          "base_uri": "https://localhost:8080/"
        }
      },
      "execution_count": 103,
      "outputs": [
        {
          "output_type": "stream",
          "name": "stderr",
          "text": [
            "100%|██████████| 1/1 [00:00<00:00,  3.44it/s]\n",
            "100%|██████████| 1/1 [00:01<00:00,  1.36s/it]\n"
          ]
        }
      ]
    },
    {
      "cell_type": "code",
      "source": [
        "id24 = get_euclidean(id24b,id24v)\n",
        "id24"
      ],
      "metadata": {
        "id": "u5K8YKmz1ipv",
        "outputId": "2a3d762f-0dc6-4f39-942b-7b5f17a4d907",
        "colab": {
          "base_uri": "https://localhost:8080/"
        }
      },
      "execution_count": 104,
      "outputs": [
        {
          "output_type": "execute_result",
          "data": {
            "text/plain": [
              "[24.610713958740234, 26.426740646362305, 29.123266220092773]"
            ]
          },
          "metadata": {},
          "execution_count": 104
        }
      ]
    },
    {
      "cell_type": "markdown",
      "source": [
        "# บังโคลนด้านหลังฝั่งซ้ายสียหายหนัก"
      ],
      "metadata": {
        "id": "iyyJDgft1qnf"
      }
    },
    {
      "cell_type": "code",
      "source": [
        "car25_dataset , car25_loader = get_dataset(r'/content/drive/MyDrive/Test Dist/Base/Left')\n",
        "dmg25_dataset , dmg25_loader = get_dataset(r'/content/drive/MyDrive/Test Dist/dmg/left/most dmg2')"
      ],
      "metadata": {
        "id": "6kpMIZdB1kYG"
      },
      "execution_count": 105,
      "outputs": []
    },
    {
      "cell_type": "code",
      "source": [
        "id25b = get_features(vgg,car25_loader)\n",
        "id25v = get_features(vgg,dmg25_loader)"
      ],
      "metadata": {
        "id": "Cwz6TI9W1wuz",
        "outputId": "21bdf080-76de-47b4-e9bf-0005b149f7b0",
        "colab": {
          "base_uri": "https://localhost:8080/"
        }
      },
      "execution_count": 106,
      "outputs": [
        {
          "output_type": "stream",
          "name": "stderr",
          "text": [
            "100%|██████████| 1/1 [00:00<00:00,  7.36it/s]\n",
            "100%|██████████| 1/1 [00:01<00:00,  1.33s/it]\n"
          ]
        }
      ]
    },
    {
      "cell_type": "code",
      "source": [
        "id25 = get_euclidean(id25b,id25v)\n",
        "id25"
      ],
      "metadata": {
        "id": "HSsAsLbz1zHT",
        "outputId": "18b284e5-243e-49b2-e14b-e7890e443d90",
        "colab": {
          "base_uri": "https://localhost:8080/"
        }
      },
      "execution_count": 107,
      "outputs": [
        {
          "output_type": "execute_result",
          "data": {
            "text/plain": [
              "[27.710092544555664, 24.895465850830078, 29.28241729736328]"
            ]
          },
          "metadata": {},
          "execution_count": 107
        }
      ]
    },
    {
      "cell_type": "markdown",
      "source": [
        "# ฝากระโปรงด้านหลังเสียหายหนัก"
      ],
      "metadata": {
        "id": "Feukrbik2B8p"
      }
    },
    {
      "cell_type": "code",
      "source": [
        "car26_dataset , car26_loader = get_dataset(r'/content/drive/MyDrive/Test Dist/Base/back')\n",
        "dmg26_dataset , dmg26_loader = get_dataset(r'/content/drive/MyDrive/Test Dist/dmg/back/most dmg2')"
      ],
      "metadata": {
        "id": "nJwahZwQ10qO"
      },
      "execution_count": 108,
      "outputs": []
    },
    {
      "cell_type": "code",
      "source": [
        "id26b = get_features(vgg,car26_loader)\n",
        "id26v = get_features(vgg,dmg26_loader)"
      ],
      "metadata": {
        "id": "yfeTClFW2HZj",
        "outputId": "0fc23c74-6ae2-425d-ba25-1c19e3635199",
        "colab": {
          "base_uri": "https://localhost:8080/"
        }
      },
      "execution_count": 109,
      "outputs": [
        {
          "output_type": "stream",
          "name": "stderr",
          "text": [
            "100%|██████████| 1/1 [00:00<00:00,  7.49it/s]\n",
            "100%|██████████| 1/1 [00:01<00:00,  1.38s/it]\n"
          ]
        }
      ]
    },
    {
      "cell_type": "code",
      "source": [
        "id26 = get_euclidean(id26b,id26v)\n",
        "id26"
      ],
      "metadata": {
        "id": "yDpNYe3J2I7W",
        "outputId": "9f1124e1-27ef-4c84-c077-e50c2a6b30a0",
        "colab": {
          "base_uri": "https://localhost:8080/"
        }
      },
      "execution_count": 110,
      "outputs": [
        {
          "output_type": "execute_result",
          "data": {
            "text/plain": [
              "[47.90445327758789, 32.01901626586914, 36.67692947387695]"
            ]
          },
          "metadata": {},
          "execution_count": 110
        }
      ]
    },
    {
      "cell_type": "code",
      "source": [
        ""
      ],
      "metadata": {
        "id": "BsnyhPhn2Ke-"
      },
      "execution_count": null,
      "outputs": []
    }
  ]
}