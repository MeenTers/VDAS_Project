{
  "nbformat": 4,
  "nbformat_minor": 0,
  "metadata": {
    "colab": {
      "name": "compare_views.ipynb",
      "provenance": [],
      "authorship_tag": "ABX9TyMi9D19WvwDq3K1c9FhKd9E",
      "include_colab_link": true
    },
    "kernelspec": {
      "name": "python3",
      "display_name": "Python 3"
    },
    "language_info": {
      "name": "python"
    },
    "accelerator": "GPU",
    "widgets": {
      "application/vnd.jupyter.widget-state+json": {
        "d0683b3a38934cc79122c96792e49788": {
          "model_module": "@jupyter-widgets/controls",
          "model_name": "HBoxModel",
          "model_module_version": "1.5.0",
          "state": {
            "_view_name": "HBoxView",
            "_dom_classes": [],
            "_model_name": "HBoxModel",
            "_view_module": "@jupyter-widgets/controls",
            "_model_module_version": "1.5.0",
            "_view_count": null,
            "_view_module_version": "1.5.0",
            "box_style": "",
            "layout": "IPY_MODEL_bae43369b279446083f85fbc4cad7e40",
            "_model_module": "@jupyter-widgets/controls",
            "children": [
              "IPY_MODEL_0f1135b992d341c69b2e6cd23ec9460a",
              "IPY_MODEL_c9c7d4d4b27b409db23ba8039ae45765",
              "IPY_MODEL_2ed2f64a54b24ada867af55134bac567"
            ]
          }
        },
        "bae43369b279446083f85fbc4cad7e40": {
          "model_module": "@jupyter-widgets/base",
          "model_name": "LayoutModel",
          "model_module_version": "1.2.0",
          "state": {
            "_view_name": "LayoutView",
            "grid_template_rows": null,
            "right": null,
            "justify_content": null,
            "_view_module": "@jupyter-widgets/base",
            "overflow": null,
            "_model_module_version": "1.2.0",
            "_view_count": null,
            "flex_flow": null,
            "width": null,
            "min_width": null,
            "border": null,
            "align_items": null,
            "bottom": null,
            "_model_module": "@jupyter-widgets/base",
            "top": null,
            "grid_column": null,
            "overflow_y": null,
            "overflow_x": null,
            "grid_auto_flow": null,
            "grid_area": null,
            "grid_template_columns": null,
            "flex": null,
            "_model_name": "LayoutModel",
            "justify_items": null,
            "grid_row": null,
            "max_height": null,
            "align_content": null,
            "visibility": null,
            "align_self": null,
            "height": null,
            "min_height": null,
            "padding": null,
            "grid_auto_rows": null,
            "grid_gap": null,
            "max_width": null,
            "order": null,
            "_view_module_version": "1.2.0",
            "grid_template_areas": null,
            "object_position": null,
            "object_fit": null,
            "grid_auto_columns": null,
            "margin": null,
            "display": null,
            "left": null
          }
        },
        "0f1135b992d341c69b2e6cd23ec9460a": {
          "model_module": "@jupyter-widgets/controls",
          "model_name": "HTMLModel",
          "model_module_version": "1.5.0",
          "state": {
            "_view_name": "HTMLView",
            "style": "IPY_MODEL_b83651c571554f49958aea5f38706902",
            "_dom_classes": [],
            "description": "",
            "_model_name": "HTMLModel",
            "placeholder": "​",
            "_view_module": "@jupyter-widgets/controls",
            "_model_module_version": "1.5.0",
            "value": "100%",
            "_view_count": null,
            "_view_module_version": "1.5.0",
            "description_tooltip": null,
            "_model_module": "@jupyter-widgets/controls",
            "layout": "IPY_MODEL_922e7e33dccd47cb9490f2a88aa945cb"
          }
        },
        "c9c7d4d4b27b409db23ba8039ae45765": {
          "model_module": "@jupyter-widgets/controls",
          "model_name": "FloatProgressModel",
          "model_module_version": "1.5.0",
          "state": {
            "_view_name": "ProgressView",
            "style": "IPY_MODEL_f240203927864fb6afdcb25265b5db66",
            "_dom_classes": [],
            "description": "",
            "_model_name": "FloatProgressModel",
            "bar_style": "success",
            "max": 574673361,
            "_view_module": "@jupyter-widgets/controls",
            "_model_module_version": "1.5.0",
            "value": 574673361,
            "_view_count": null,
            "_view_module_version": "1.5.0",
            "orientation": "horizontal",
            "min": 0,
            "description_tooltip": null,
            "_model_module": "@jupyter-widgets/controls",
            "layout": "IPY_MODEL_db5ff83c013741129f87d63eadc16145"
          }
        },
        "2ed2f64a54b24ada867af55134bac567": {
          "model_module": "@jupyter-widgets/controls",
          "model_name": "HTMLModel",
          "model_module_version": "1.5.0",
          "state": {
            "_view_name": "HTMLView",
            "style": "IPY_MODEL_9ebecd0b856d415594aca8def49b0558",
            "_dom_classes": [],
            "description": "",
            "_model_name": "HTMLModel",
            "placeholder": "​",
            "_view_module": "@jupyter-widgets/controls",
            "_model_module_version": "1.5.0",
            "value": " 548M/548M [00:05&lt;00:00, 232MB/s]",
            "_view_count": null,
            "_view_module_version": "1.5.0",
            "description_tooltip": null,
            "_model_module": "@jupyter-widgets/controls",
            "layout": "IPY_MODEL_d0b3362c964246cdbcff6602b6efa231"
          }
        },
        "b83651c571554f49958aea5f38706902": {
          "model_module": "@jupyter-widgets/controls",
          "model_name": "DescriptionStyleModel",
          "model_module_version": "1.5.0",
          "state": {
            "_view_name": "StyleView",
            "_model_name": "DescriptionStyleModel",
            "description_width": "",
            "_view_module": "@jupyter-widgets/base",
            "_model_module_version": "1.5.0",
            "_view_count": null,
            "_view_module_version": "1.2.0",
            "_model_module": "@jupyter-widgets/controls"
          }
        },
        "922e7e33dccd47cb9490f2a88aa945cb": {
          "model_module": "@jupyter-widgets/base",
          "model_name": "LayoutModel",
          "model_module_version": "1.2.0",
          "state": {
            "_view_name": "LayoutView",
            "grid_template_rows": null,
            "right": null,
            "justify_content": null,
            "_view_module": "@jupyter-widgets/base",
            "overflow": null,
            "_model_module_version": "1.2.0",
            "_view_count": null,
            "flex_flow": null,
            "width": null,
            "min_width": null,
            "border": null,
            "align_items": null,
            "bottom": null,
            "_model_module": "@jupyter-widgets/base",
            "top": null,
            "grid_column": null,
            "overflow_y": null,
            "overflow_x": null,
            "grid_auto_flow": null,
            "grid_area": null,
            "grid_template_columns": null,
            "flex": null,
            "_model_name": "LayoutModel",
            "justify_items": null,
            "grid_row": null,
            "max_height": null,
            "align_content": null,
            "visibility": null,
            "align_self": null,
            "height": null,
            "min_height": null,
            "padding": null,
            "grid_auto_rows": null,
            "grid_gap": null,
            "max_width": null,
            "order": null,
            "_view_module_version": "1.2.0",
            "grid_template_areas": null,
            "object_position": null,
            "object_fit": null,
            "grid_auto_columns": null,
            "margin": null,
            "display": null,
            "left": null
          }
        },
        "f240203927864fb6afdcb25265b5db66": {
          "model_module": "@jupyter-widgets/controls",
          "model_name": "ProgressStyleModel",
          "model_module_version": "1.5.0",
          "state": {
            "_view_name": "StyleView",
            "_model_name": "ProgressStyleModel",
            "description_width": "",
            "_view_module": "@jupyter-widgets/base",
            "_model_module_version": "1.5.0",
            "_view_count": null,
            "_view_module_version": "1.2.0",
            "bar_color": null,
            "_model_module": "@jupyter-widgets/controls"
          }
        },
        "db5ff83c013741129f87d63eadc16145": {
          "model_module": "@jupyter-widgets/base",
          "model_name": "LayoutModel",
          "model_module_version": "1.2.0",
          "state": {
            "_view_name": "LayoutView",
            "grid_template_rows": null,
            "right": null,
            "justify_content": null,
            "_view_module": "@jupyter-widgets/base",
            "overflow": null,
            "_model_module_version": "1.2.0",
            "_view_count": null,
            "flex_flow": null,
            "width": null,
            "min_width": null,
            "border": null,
            "align_items": null,
            "bottom": null,
            "_model_module": "@jupyter-widgets/base",
            "top": null,
            "grid_column": null,
            "overflow_y": null,
            "overflow_x": null,
            "grid_auto_flow": null,
            "grid_area": null,
            "grid_template_columns": null,
            "flex": null,
            "_model_name": "LayoutModel",
            "justify_items": null,
            "grid_row": null,
            "max_height": null,
            "align_content": null,
            "visibility": null,
            "align_self": null,
            "height": null,
            "min_height": null,
            "padding": null,
            "grid_auto_rows": null,
            "grid_gap": null,
            "max_width": null,
            "order": null,
            "_view_module_version": "1.2.0",
            "grid_template_areas": null,
            "object_position": null,
            "object_fit": null,
            "grid_auto_columns": null,
            "margin": null,
            "display": null,
            "left": null
          }
        },
        "9ebecd0b856d415594aca8def49b0558": {
          "model_module": "@jupyter-widgets/controls",
          "model_name": "DescriptionStyleModel",
          "model_module_version": "1.5.0",
          "state": {
            "_view_name": "StyleView",
            "_model_name": "DescriptionStyleModel",
            "description_width": "",
            "_view_module": "@jupyter-widgets/base",
            "_model_module_version": "1.5.0",
            "_view_count": null,
            "_view_module_version": "1.2.0",
            "_model_module": "@jupyter-widgets/controls"
          }
        },
        "d0b3362c964246cdbcff6602b6efa231": {
          "model_module": "@jupyter-widgets/base",
          "model_name": "LayoutModel",
          "model_module_version": "1.2.0",
          "state": {
            "_view_name": "LayoutView",
            "grid_template_rows": null,
            "right": null,
            "justify_content": null,
            "_view_module": "@jupyter-widgets/base",
            "overflow": null,
            "_model_module_version": "1.2.0",
            "_view_count": null,
            "flex_flow": null,
            "width": null,
            "min_width": null,
            "border": null,
            "align_items": null,
            "bottom": null,
            "_model_module": "@jupyter-widgets/base",
            "top": null,
            "grid_column": null,
            "overflow_y": null,
            "overflow_x": null,
            "grid_auto_flow": null,
            "grid_area": null,
            "grid_template_columns": null,
            "flex": null,
            "_model_name": "LayoutModel",
            "justify_items": null,
            "grid_row": null,
            "max_height": null,
            "align_content": null,
            "visibility": null,
            "align_self": null,
            "height": null,
            "min_height": null,
            "padding": null,
            "grid_auto_rows": null,
            "grid_gap": null,
            "max_width": null,
            "order": null,
            "_view_module_version": "1.2.0",
            "grid_template_areas": null,
            "object_position": null,
            "object_fit": null,
            "grid_auto_columns": null,
            "margin": null,
            "display": null,
            "left": null
          }
        }
      }
    }
  },
  "cells": [
    {
      "cell_type": "markdown",
      "metadata": {
        "id": "view-in-github",
        "colab_type": "text"
      },
      "source": [
        "<a href=\"https://colab.research.google.com/github/MeenTers/VDAS_Project/blob/main/compare_views.ipynb\" target=\"_parent\"><img src=\"https://colab.research.google.com/assets/colab-badge.svg\" alt=\"Open In Colab\"/></a>"
      ]
    },
    {
      "cell_type": "code",
      "execution_count": 1,
      "metadata": {
        "colab": {
          "base_uri": "https://localhost:8080/"
        },
        "id": "skOTs39vwpeP",
        "outputId": "1772f674-8bea-4d63-95d8-b7dc9cf0f8b1"
      },
      "outputs": [
        {
          "output_type": "stream",
          "name": "stdout",
          "text": [
            "Mounted at /content/drive\n"
          ]
        }
      ],
      "source": [
        "from google.colab import drive\n",
        "drive.mount('/content/drive')"
      ]
    },
    {
      "cell_type": "code",
      "source": [
        "import torch\n",
        "from torch import nn, load, utils\n",
        "from tqdm import tqdm\n",
        "import matplotlib.pyplot as plt\n",
        "import numpy as np\n",
        "from torchvision import datasets, transforms, models\n",
        "from torchvision.models.vgg import model_urls\n",
        "from os import path, listdir\n",
        "model_urls['vgg19'] = model_urls['vgg19'].replace('https://', 'http://')"
      ],
      "metadata": {
        "id": "Tt3RJZiBwvwC"
      },
      "execution_count": 2,
      "outputs": []
    },
    {
      "cell_type": "code",
      "source": [
        "from scipy.spatial import distance_matrix\n",
        "from scipy.spatial import distance\n",
        "import pandas as pd"
      ],
      "metadata": {
        "id": "twTulD0PxPrP"
      },
      "execution_count": 3,
      "outputs": []
    },
    {
      "cell_type": "code",
      "source": [
        "import matplotlib.image as mpimg\n",
        "import matplotlib.pyplot as plt\n",
        "import cv2"
      ],
      "metadata": {
        "id": "z8HjhvwoxRd1"
      },
      "execution_count": 4,
      "outputs": []
    },
    {
      "cell_type": "markdown",
      "source": [
        "# VGG model"
      ],
      "metadata": {
        "id": "VHrB2lB0xS-c"
      }
    },
    {
      "cell_type": "code",
      "source": [
        "class VGG:\n",
        "\tdef __init__(self):\n",
        "\t\tmodel = models.vgg19(pretrained=True, progress=True)\n",
        "\t\tmodel.classifier = nn.Sequential(*list(model.classifier.children())[:3])\n",
        "\t\tself.model = model.cuda().eval()\n",
        "\n",
        "\tdef __call__(self, x):\n",
        "\t\treturn self.model(x)"
      ],
      "metadata": {
        "id": "NqZSl_HlxSoB"
      },
      "execution_count": 5,
      "outputs": []
    },
    {
      "cell_type": "code",
      "source": [
        "vgg = VGG()"
      ],
      "metadata": {
        "colab": {
          "base_uri": "https://localhost:8080/",
          "height": 66,
          "referenced_widgets": [
            "d0683b3a38934cc79122c96792e49788",
            "bae43369b279446083f85fbc4cad7e40",
            "0f1135b992d341c69b2e6cd23ec9460a",
            "c9c7d4d4b27b409db23ba8039ae45765",
            "2ed2f64a54b24ada867af55134bac567",
            "b83651c571554f49958aea5f38706902",
            "922e7e33dccd47cb9490f2a88aa945cb",
            "f240203927864fb6afdcb25265b5db66",
            "db5ff83c013741129f87d63eadc16145",
            "9ebecd0b856d415594aca8def49b0558",
            "d0b3362c964246cdbcff6602b6efa231"
          ]
        },
        "id": "keooR4U-xV9d",
        "outputId": "6c1820c3-08b0-4610-cc94-c439f0c38950"
      },
      "execution_count": 6,
      "outputs": [
        {
          "output_type": "stream",
          "name": "stderr",
          "text": [
            "Downloading: \"http://download.pytorch.org/models/vgg19-dcbb9e9d.pth\" to /root/.cache/torch/hub/checkpoints/vgg19-dcbb9e9d.pth\n"
          ]
        },
        {
          "output_type": "display_data",
          "data": {
            "application/vnd.jupyter.widget-view+json": {
              "model_id": "d0683b3a38934cc79122c96792e49788",
              "version_minor": 0,
              "version_major": 2
            },
            "text/plain": [
              "  0%|          | 0.00/548M [00:00<?, ?B/s]"
            ]
          },
          "metadata": {}
        }
      ]
    },
    {
      "cell_type": "markdown",
      "source": [
        "# Create Features Extraction Function"
      ],
      "metadata": {
        "id": "0ectWblExY8q"
      }
    },
    {
      "cell_type": "code",
      "source": [
        "def get_features(model, loader):\n",
        "    features = []\n",
        "    with torch.no_grad():\n",
        "        for batch, _ in tqdm(loader):\n",
        "            if torch.cuda.is_available():\n",
        "                batch = batch.cuda()\n",
        "            b_features = model(batch).detach().cpu().numpy()\n",
        "            for f in b_features:\n",
        "                features.append(f)\n",
        "\n",
        "    return features"
      ],
      "metadata": {
        "id": "3YikmvuLxXaj"
      },
      "execution_count": 7,
      "outputs": []
    },
    {
      "cell_type": "markdown",
      "source": [
        "## Create Loading the data Function"
      ],
      "metadata": {
        "id": "A4hWTmbexbYN"
      }
    },
    {
      "cell_type": "code",
      "source": [
        "def get_dataset(images_path):\n",
        "  transform = transforms.Compose([\n",
        "    transforms.Resize(size=32),\n",
        "    transforms.ToTensor(),\n",
        "    transforms.Normalize((0.4914, 0.4822, 0.4465), (0.2023, 0.1994, 0.2010)),\n",
        "  ])\n",
        "\n",
        "  dataset = datasets.ImageFolder(images_path, transform=transform)\n",
        "  loader = utils.data.DataLoader(dataset, batch_size=100, shuffle=False, num_workers=1, pin_memory=True)\n",
        "  return dataset, loader"
      ],
      "metadata": {
        "id": "kYagKgh8xbDt"
      },
      "execution_count": 8,
      "outputs": []
    },
    {
      "cell_type": "markdown",
      "source": [
        "## Install Font TH-SARABUN"
      ],
      "metadata": {
        "id": "2rNSi49RxfZj"
      }
    },
    {
      "cell_type": "code",
      "source": [
        "!wget -q https://github.com/Phonbopit/sarabun-webfont/raw/master/fonts/thsarabunnew-webfont.ttf"
      ],
      "metadata": {
        "id": "vyFsSu0Hxe3G"
      },
      "execution_count": 9,
      "outputs": []
    },
    {
      "cell_type": "code",
      "source": [
        "# !pip install -U --pre matplotlib  \n",
        "import matplotlib as mpl\n",
        "mpl.font_manager.fontManager.addfont('thsarabunnew-webfont.ttf')\n",
        "mpl.rc('font', family='TH Sarabun New')"
      ],
      "metadata": {
        "id": "-yc1vcpsxiXE"
      },
      "execution_count": 10,
      "outputs": []
    },
    {
      "cell_type": "markdown",
      "source": [
        "## Create Compute Distance Function"
      ],
      "metadata": {
        "id": "zAmDU0mIxlFz"
      }
    },
    {
      "cell_type": "code",
      "source": [
        "def get_euclidean(base_car,diff_view):\n",
        "    A = []\n",
        "    for i in range(len(diff_view)):\n",
        "        x = distance.euclidean(base_car[i],diff_view[i])\n",
        "        A.append(x)\n",
        "    return(A)"
      ],
      "metadata": {
        "id": "qrCg2JP9xjsB"
      },
      "execution_count": 11,
      "outputs": []
    },
    {
      "cell_type": "markdown",
      "source": [
        "# กันชนหน้ารถเสียหายเล็กน้อย"
      ],
      "metadata": {
        "id": "0J3J-lQfxw7E"
      }
    },
    {
      "cell_type": "code",
      "source": [
        "car1_dataset , car1_loader = get_dataset(r'/content/drive/MyDrive/Test Dist/Base/Front')\n",
        "dmg1_dataset , dmg1_loader = get_dataset(r'/content/drive/MyDrive/Test Dist/dmg/front/little dmg1')"
      ],
      "metadata": {
        "id": "U1_l52C6xof0"
      },
      "execution_count": 18,
      "outputs": []
    },
    {
      "cell_type": "code",
      "source": [
        "id1b = get_features(vgg,car1_loader)\n",
        "id1v = get_features(vgg,dmg1_loader)"
      ],
      "metadata": {
        "colab": {
          "base_uri": "https://localhost:8080/"
        },
        "id": "VnUDC0SoyAAy",
        "outputId": "322a9d51-ff10-4387-ebff-fa60e9109c09"
      },
      "execution_count": 19,
      "outputs": [
        {
          "output_type": "stream",
          "name": "stderr",
          "text": [
            "100%|██████████| 1/1 [00:00<00:00,  1.50it/s]\n",
            "100%|██████████| 1/1 [00:00<00:00,  8.02it/s]\n"
          ]
        }
      ]
    },
    {
      "cell_type": "code",
      "source": [
        "id1 = get_euclidean(id1b,id1v)\n",
        "id1"
      ],
      "metadata": {
        "colab": {
          "base_uri": "https://localhost:8080/"
        },
        "id": "257EmvhtyEX9",
        "outputId": "6b8d3e37-701b-4383-fde8-5be214405ecb"
      },
      "execution_count": 20,
      "outputs": [
        {
          "output_type": "execute_result",
          "data": {
            "text/plain": [
              "[1.84158456325531, 2.6256866455078125, 10.461527824401855]"
            ]
          },
          "metadata": {},
          "execution_count": 20
        }
      ]
    },
    {
      "cell_type": "code",
      "source": [
        "id1f = cv2.imread('/content/drive/MyDrive/Test Dist/Base/Front/base of front/ID1F.png')\n",
        "id1dmgf = cv2.imread('/content/drive/MyDrive/Test Dist/dmg/front/little dmg1/test1/ID1dmg1.png')\n",
        "id2f = cv2.imread('/content/drive/MyDrive/Test Dist/Base/Front/base of front/ID2F.png')\n",
        "id2dmgf = cv2.imread('/content/drive/MyDrive/Test Dist/dmg/front/little dmg1/test1/ID2dmg1.png')"
      ],
      "metadata": {
        "id": "uUhG-SHvy-Bd"
      },
      "execution_count": 21,
      "outputs": []
    },
    {
      "cell_type": "code",
      "source": [
        "# create figure\n",
        "fig = plt.figure(figsize=(15, 10))\n",
        "  # setting values to rows and column variables\n",
        "rows = 2\n",
        "columns = 2\n",
        "  # Adds a subplot at the 1st position\n",
        "fig.add_subplot(rows, columns, 1)\n",
        "  # showing image\n",
        "plt.imshow(id1f)\n",
        "plt.axis('off')\n",
        "plt.title('ด้านหน้ารถยนต์')\n",
        "\n",
        "# Adds a subplot at the 2nd position\n",
        "fig.add_subplot(rows, columns, 2)  \n",
        "# showing image\n",
        "plt.imshow(id1dmgf)\n",
        "plt.axis('off')\n",
        "plt.title('ด้านหน้ารถยนต์เสียหาย')\n",
        "plt.text(150,450,'Distance = '+str(round(id1[0],3)),fontsize = 15,bbox = dict(facecolor = 'red', alpha = 0.5))\n",
        "        \n",
        "# Adds a subplot at the 3rd position\n",
        "fig.add_subplot(rows, columns, 3)\n",
        "  # showing image\n",
        "plt.imshow(id2f)\n",
        "plt.axis('off')\n",
        "plt.title('ด้านหน้ารถยนต์')\n",
        "\n",
        "  # Adds a subplot at the 4th position\n",
        "fig.add_subplot(rows, columns, 4)\n",
        "  # showing image\n",
        "plt.imshow(id2dmgf)\n",
        "plt.axis('off')\n",
        "plt.title('ด้านหน้ารถยนต์เสียหาย')\n",
        "plt.text(150,450,'Distance = '+str(round(id1[1],3)),fontsize = 15,bbox = dict(facecolor = 'red', alpha = 0.5))"
      ],
      "metadata": {
        "colab": {
          "base_uri": "https://localhost:8080/",
          "height": 609
        },
        "id": "G2mk5EoFyJKe",
        "outputId": "c047f617-69ea-4411-9b35-9a0a0d811f19"
      },
      "execution_count": 22,
      "outputs": [
        {
          "output_type": "execute_result",
          "data": {
            "text/plain": [
              "Text(150, 450, 'Distance = 2.626')"
            ]
          },
          "metadata": {},
          "execution_count": 22
        },
        {
          "output_type": "display_data",
          "data": {
            "image/png": "[encoded data removed]",
            "text/plain": [
              "<Figure size 1080x720 with 4 Axes>"
            ]
          },
          "metadata": {
            "needs_background": "light"
          }
        }
      ]
    },
    {
      "cell_type": "markdown",
      "source": [
        "# กระจกด้านซ้ายเสียหายเล็กน้อย"
      ],
      "metadata": {
        "id": "yPRN_5AAtylw"
      }
    },
    {
      "cell_type": "code",
      "source": [
        "car2_dataset , car2_loader = get_dataset(r'/content/drive/MyDrive/Test Dist/Base/Front')\n",
        "dmg2_dataset , dmg2_loader = get_dataset(r'/content/drive/MyDrive/Test Dist/dmg/front/little dmg2')"
      ],
      "metadata": {
        "id": "leSwd8GwKY0e"
      },
      "execution_count": 31,
      "outputs": []
    },
    {
      "cell_type": "code",
      "source": [
        "id2b = get_features(vgg,car2_loader)\n",
        "id2v = get_features(vgg,dmg2_loader)"
      ],
      "metadata": {
        "id": "ajRK56uguBs5",
        "outputId": "5f2afe3f-c3ad-4ea2-e7da-0069596b5eea",
        "colab": {
          "base_uri": "https://localhost:8080/"
        }
      },
      "execution_count": 32,
      "outputs": [
        {
          "output_type": "stream",
          "name": "stderr",
          "text": [
            "100%|██████████| 1/1 [00:00<00:00,  7.12it/s]\n",
            "100%|██████████| 1/1 [00:00<00:00,  1.47it/s]\n"
          ]
        }
      ]
    },
    {
      "cell_type": "code",
      "source": [
        "id2 = get_euclidean(id2b,id2v)\n",
        "id2"
      ],
      "metadata": {
        "id": "vjeY-kG1uF2_",
        "outputId": "b174083d-0b2b-4783-b40c-6170b07220c0",
        "colab": {
          "base_uri": "https://localhost:8080/"
        }
      },
      "execution_count": 33,
      "outputs": [
        {
          "output_type": "execute_result",
          "data": {
            "text/plain": [
              "[0.2577701210975647, 2.229651689529419, 1.2907428741455078]"
            ]
          },
          "metadata": {},
          "execution_count": 33
        }
      ]
    },
    {
      "cell_type": "code",
      "source": [
        "id1f = cv2.imread('/content/drive/MyDrive/Test Dist/Base/Front/base of front/ID1F.png')\n",
        "id1dmgf = cv2.imread('/content/drive/MyDrive/Test Dist/dmg/front/little dmg2/test1/ID1dmg2.png')\n",
        "id2f = cv2.imread('/content/drive/MyDrive/Test Dist/Base/Front/base of front/ID2F.png')\n",
        "id2dmgf = cv2.imread('/content/drive/MyDrive/Test Dist/dmg/front/little dmg2/test1/ID2dmg2.png')"
      ],
      "metadata": {
        "id": "s5T5VylguJ5N"
      },
      "execution_count": 34,
      "outputs": []
    },
    {
      "cell_type": "code",
      "source": [
        "# create figure\n",
        "fig = plt.figure(figsize=(15, 10))\n",
        "  # setting values to rows and column variables\n",
        "rows = 2\n",
        "columns = 2\n",
        "  # Adds a subplot at the 1st position\n",
        "fig.add_subplot(rows, columns, 1)\n",
        "  # showing image\n",
        "plt.imshow(id1f)\n",
        "plt.axis('off')\n",
        "plt.title('ด้านหน้ารถยนต์')\n",
        "\n",
        "# Adds a subplot at the 2nd position\n",
        "fig.add_subplot(rows, columns, 2)  \n",
        "# showing image\n",
        "plt.imshow(id1dmgf)\n",
        "plt.axis('off')\n",
        "plt.title('ด้านหน้ารถยนต์เสียหาย')\n",
        "plt.text(150,450,'Distance = '+str(round(id2[0],3)),fontsize = 15,bbox = dict(facecolor = 'red', alpha = 0.5))\n",
        "        \n",
        "# Adds a subplot at the 3rd position\n",
        "fig.add_subplot(rows, columns, 3)\n",
        "  # showing image\n",
        "plt.imshow(id2f)\n",
        "plt.axis('off')\n",
        "plt.title('ด้านหน้ารถยนต์')\n",
        "\n",
        "  # Adds a subplot at the 4th position\n",
        "fig.add_subplot(rows, columns, 4)\n",
        "  # showing image\n",
        "plt.imshow(id2dmgf)\n",
        "plt.axis('off')\n",
        "plt.title('ด้านหน้ารถยนต์เสียหาย')\n",
        "plt.text(150,450,'Distance = '+str(round(id2[1],3)),fontsize = 15,bbox = dict(facecolor = 'red', alpha = 0.5))"
      ],
      "metadata": {
        "id": "psluJ3x8uR4P",
        "outputId": "ebfdd704-5d89-4a7e-8aea-bf6665b73a1e",
        "colab": {
          "base_uri": "https://localhost:8080/",
          "height": 609
        }
      },
      "execution_count": 35,
      "outputs": [
        {
          "output_type": "execute_result",
          "data": {
            "text/plain": [
              "Text(150, 450, 'Distance = 2.23')"
            ]
          },
          "metadata": {},
          "execution_count": 35
        },
        {
          "output_type": "display_data",
          "data": {
            "image/png": "[encoded data removed]",
            "text/plain": [
              "<Figure size 1080x720 with 4 Axes>"
            ]
          },
          "metadata": {
            "needs_background": "light"
          }
        }
      ]
    },
    {
      "cell_type": "markdown",
      "source": [
        "# กันชนด้านหลังเสียหายเล็กน้อย"
      ],
      "metadata": {
        "id": "zyIM6gsJubvT"
      }
    },
    {
      "cell_type": "code",
      "source": [
        "car3_dataset , car3_loader = get_dataset(r'/content/drive/MyDrive/Test Dist/Base/back')\n",
        "dmg3_dataset , dmg3_loader = get_dataset(r'/content/drive/MyDrive/Test Dist/dmg/front/little dmgb1')"
      ],
      "metadata": {
        "id": "wtZT52gAuXmv"
      },
      "execution_count": 39,
      "outputs": []
    },
    {
      "cell_type": "code",
      "source": [
        "id3b = get_features(vgg,car3_loader)\n",
        "id3v = get_features(vgg,dmg3_loader)"
      ],
      "metadata": {
        "id": "g98eG5u9vxxh",
        "outputId": "87356ae2-a470-4c7d-f53d-672621a1e539",
        "colab": {
          "base_uri": "https://localhost:8080/"
        }
      },
      "execution_count": 40,
      "outputs": [
        {
          "output_type": "stream",
          "name": "stderr",
          "text": [
            "100%|██████████| 1/1 [00:00<00:00,  7.82it/s]\n",
            "100%|██████████| 1/1 [00:00<00:00,  8.13it/s]\n"
          ]
        }
      ]
    },
    {
      "cell_type": "code",
      "source": [
        "id3 = get_euclidean(id3b,id3v)\n",
        "id3"
      ],
      "metadata": {
        "id": "kfYmOhKKvspm",
        "outputId": "6d936d5f-780b-4f23-9008-511a0fbaad62",
        "colab": {
          "base_uri": "https://localhost:8080/"
        }
      },
      "execution_count": 41,
      "outputs": [
        {
          "output_type": "execute_result",
          "data": {
            "text/plain": [
              "[0.0, 0.0, 0.0]"
            ]
          },
          "metadata": {},
          "execution_count": 41
        }
      ]
    },
    {
      "cell_type": "markdown",
      "source": [
        "# ฝากระโปรงด้านหลังเสียหายเล็กน้อย"
      ],
      "metadata": {
        "id": "g2PUainnweY0"
      }
    },
    {
      "cell_type": "code",
      "source": [
        "car4_dataset , car4_loader = get_dataset(r'/content/drive/MyDrive/Test Dist/Base/back')\n",
        "dmg4_dataset , dmg4_loader = get_dataset(r'/content/drive/MyDrive/Test Dist/dmg/back/little dmgb2')"
      ],
      "metadata": {
        "id": "tZYxM0b6v05x"
      },
      "execution_count": 42,
      "outputs": []
    },
    {
      "cell_type": "code",
      "source": [
        "id4b = get_features(vgg,car4_loader)\n",
        "id4v = get_features(vgg,dmg4_loader)"
      ],
      "metadata": {
        "id": "gXZMLTRtxC57",
        "outputId": "8f72b7d9-1326-4ce1-96f2-b2a7d01580c5",
        "colab": {
          "base_uri": "https://localhost:8080/"
        }
      },
      "execution_count": 43,
      "outputs": [
        {
          "output_type": "stream",
          "name": "stderr",
          "text": [
            "100%|██████████| 1/1 [00:00<00:00,  7.77it/s]\n",
            "100%|██████████| 1/1 [00:02<00:00,  2.36s/it]\n"
          ]
        }
      ]
    },
    {
      "cell_type": "code",
      "source": [
        "id4 = get_euclidean(id4b,id4v)\n",
        "id4"
      ],
      "metadata": {
        "id": "MrZIP_M1xE7D",
        "outputId": "debace56-2e68-4153-9d0f-d0fcc9dd988c",
        "colab": {
          "base_uri": "https://localhost:8080/"
        }
      },
      "execution_count": 44,
      "outputs": [
        {
          "output_type": "execute_result",
          "data": {
            "text/plain": [
              "[3.368466854095459, 0.0, 0.517829954624176]"
            ]
          },
          "metadata": {},
          "execution_count": 44
        }
      ]
    },
    {
      "cell_type": "markdown",
      "source": [
        "# บังโคลนด้านหน้าฝั่งขวาเสียหายเล็กน้อย"
      ],
      "metadata": {
        "id": "O75oY_csxQs9"
      }
    },
    {
      "cell_type": "code",
      "source": [
        "car5_dataset , car5_loader = get_dataset(r'/content/drive/MyDrive/Test Dist/Base/Right')\n",
        "dmg5_dataset , dmg5_loader = get_dataset(r'/content/drive/MyDrive/Test Dist/dmg/right/little dmgr1')"
      ],
      "metadata": {
        "id": "D3PeKoF9xHrS"
      },
      "execution_count": 47,
      "outputs": []
    },
    {
      "cell_type": "code",
      "source": [
        "id5b = get_features(vgg,car5_loader)\n",
        "id5v = get_features(vgg,dmg5_loader)"
      ],
      "metadata": {
        "id": "sv2AEVnAyhCe",
        "outputId": "aa931050-d263-4562-fab7-209a9f63edf2",
        "colab": {
          "base_uri": "https://localhost:8080/"
        }
      },
      "execution_count": 48,
      "outputs": [
        {
          "output_type": "stream",
          "name": "stderr",
          "text": [
            "100%|██████████| 1/1 [00:01<00:00,  1.76s/it]\n",
            "100%|██████████| 1/1 [00:01<00:00,  1.82s/it]\n"
          ]
        }
      ]
    },
    {
      "cell_type": "code",
      "source": [
        "id5 = get_euclidean(id5b,id5v)\n",
        "id5"
      ],
      "metadata": {
        "id": "MiBkSNUVytxj",
        "outputId": "e883fcb9-98af-4a49-b405-bed481a4a9a6",
        "colab": {
          "base_uri": "https://localhost:8080/"
        }
      },
      "execution_count": 49,
      "outputs": [
        {
          "output_type": "execute_result",
          "data": {
            "text/plain": [
              "[0.9874580502510071, 1.4035791158676147, 8.292835235595703]"
            ]
          },
          "metadata": {},
          "execution_count": 49
        }
      ]
    },
    {
      "cell_type": "markdown",
      "source": [
        "# บังโคลนด้านหลังฝั่งขวาเสียหายเล็กน้อย"
      ],
      "metadata": {
        "id": "uEPMj9-Sy98z"
      }
    },
    {
      "cell_type": "code",
      "source": [
        "car6_dataset , car6_loader = get_dataset(r'/content/drive/MyDrive/Test Dist/Base/Right')\n",
        "dmg6_dataset , dmg6_loader = get_dataset(r'/content/drive/MyDrive/Test Dist/dmg/right/little dmgr2')"
      ],
      "metadata": {
        "id": "ruAW18c4yv0e"
      },
      "execution_count": 50,
      "outputs": []
    },
    {
      "cell_type": "code",
      "source": [
        "id6b = get_features(vgg,car6_loader)\n",
        "id6v = get_features(vgg,dmg6_loader)"
      ],
      "metadata": {
        "id": "eMYn-C6XzeQw",
        "outputId": "cfe117ee-86b5-459c-f3d9-44d48d119514",
        "colab": {
          "base_uri": "https://localhost:8080/"
        }
      },
      "execution_count": 52,
      "outputs": [
        {
          "output_type": "stream",
          "name": "stderr",
          "text": [
            "100%|██████████| 1/1 [00:00<00:00,  7.28it/s]\n",
            "100%|██████████| 1/1 [00:01<00:00,  1.79s/it]\n"
          ]
        }
      ]
    },
    {
      "cell_type": "code",
      "source": [
        "id6 = get_euclidean(id6b,id6v)\n",
        "id6"
      ],
      "metadata": {
        "id": "0PpXWoYFzZ9U",
        "outputId": "a33df267-d540-4887-85a5-06df047cc1a8",
        "colab": {
          "base_uri": "https://localhost:8080/"
        }
      },
      "execution_count": 53,
      "outputs": [
        {
          "output_type": "execute_result",
          "data": {
            "text/plain": [
              "[0.816369891166687, 6.181356430053711, 5.075022220611572]"
            ]
          },
          "metadata": {},
          "execution_count": 53
        }
      ]
    },
    {
      "cell_type": "markdown",
      "source": [
        "# บังโคลนด้านหน้าฝั่งซ้ายเสียหายเล็กน้อย"
      ],
      "metadata": {
        "id": "X7wbKYVs1FrU"
      }
    },
    {
      "cell_type": "code",
      "source": [
        "car7_dataset , car7_loader = get_dataset(r'/content/drive/MyDrive/Test Dist/Base/Left')\n",
        "dmg7_dataset , dmg7_loader = get_dataset(r'/content/drive/MyDrive/Test Dist/dmg/left/little dmgl1')"
      ],
      "metadata": {
        "id": "lKqqCol4zcHD"
      },
      "execution_count": 55,
      "outputs": []
    },
    {
      "cell_type": "code",
      "source": [
        "id7b = get_features(vgg,car7_loader)\n",
        "id7v = get_features(vgg,dmg7_loader)"
      ],
      "metadata": {
        "id": "OkDFS5n-1Rxf",
        "outputId": "f9eb1415-3b6d-4f40-ca6e-71fa73f75874",
        "colab": {
          "base_uri": "https://localhost:8080/"
        }
      },
      "execution_count": 56,
      "outputs": [
        {
          "output_type": "stream",
          "name": "stderr",
          "text": [
            "100%|██████████| 1/1 [00:02<00:00,  2.25s/it]\n",
            "100%|██████████| 1/1 [00:02<00:00,  2.20s/it]\n"
          ]
        }
      ]
    },
    {
      "cell_type": "code",
      "source": [
        "id7 = get_euclidean(id7b,id7v)\n",
        "id7"
      ],
      "metadata": {
        "id": "VxSPx1Vs1VfV",
        "outputId": "e0923bdc-88d9-4494-b1c7-e9d3c83f6738",
        "colab": {
          "base_uri": "https://localhost:8080/"
        }
      },
      "execution_count": 57,
      "outputs": [
        {
          "output_type": "execute_result",
          "data": {
            "text/plain": [
              "[1.3238294124603271, 1.678946852684021, 4.118788242340088]"
            ]
          },
          "metadata": {},
          "execution_count": 57
        }
      ]
    },
    {
      "cell_type": "markdown",
      "source": [
        "# บังโคลนด้านหลังฝั่งซ้ายเสียหายเล็กน้อย"
      ],
      "metadata": {
        "id": "bgednkHA1enu"
      }
    },
    {
      "cell_type": "code",
      "source": [
        "car8_dataset , car8_loader = get_dataset(r'/content/drive/MyDrive/Test Dist/Base/Left')\n",
        "dmg8_dataset , dmg8_loader = get_dataset(r'/content/drive/MyDrive/Test Dist/dmg/left/little dmgl2')"
      ],
      "metadata": {
        "id": "32_ARAqo1XwE"
      },
      "execution_count": 58,
      "outputs": []
    },
    {
      "cell_type": "code",
      "source": [
        "id8b = get_features(vgg,car8_loader)\n",
        "id8v = get_features(vgg,dmg8_loader)"
      ],
      "metadata": {
        "id": "fhWtkPtl12fW",
        "outputId": "f9b17b72-734c-4e00-fc5a-4309edab6b99",
        "colab": {
          "base_uri": "https://localhost:8080/"
        }
      },
      "execution_count": 59,
      "outputs": [
        {
          "output_type": "stream",
          "name": "stderr",
          "text": [
            "100%|██████████| 1/1 [00:00<00:00,  7.63it/s]\n",
            "100%|██████████| 1/1 [00:01<00:00,  1.84s/it]\n"
          ]
        }
      ]
    },
    {
      "cell_type": "code",
      "source": [
        "id8 = get_euclidean(id8b,id8v)\n",
        "id8"
      ],
      "metadata": {
        "id": "QRjSZGb_14u-",
        "outputId": "1bd905e4-f4fc-467c-efbb-2f9d12701f43",
        "colab": {
          "base_uri": "https://localhost:8080/"
        }
      },
      "execution_count": 60,
      "outputs": [
        {
          "output_type": "execute_result",
          "data": {
            "text/plain": [
              "[0.9240785837173462, 6.846311569213867, 4.582939147949219]"
            ]
          },
          "metadata": {},
          "execution_count": 60
        }
      ]
    },
    {
      "cell_type": "code",
      "source": [
        ""
      ],
      "metadata": {
        "id": "i-x9e5_716q4"
      },
      "execution_count": null,
      "outputs": []
    }
  ]
}